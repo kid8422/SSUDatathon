{
 "cells": [
  {
   "cell_type": "code",
   "execution_count": 41,
   "id": "776c5770-6da5-496a-844e-468b7f954baf",
   "metadata": {},
   "outputs": [],
   "source": [
    "import os\n",
    "\n",
    "from mysql import connector\n",
    "from dotenv import load_dotenv\n",
    "\n",
    "# Access environment variables\n",
    "load_dotenv()\n",
    "\n",
    "NAME = os.getenv(\"DB_NAME\")\n",
    "USER = os.getenv(\"DB_USER\")\n",
    "PASSWORD = os.getenv(\"DB_PASSWORD\")\n",
    "IP = os.getenv(\"DB_IP\")\n",
    "PORT = os.getenv(\"DB_PORT\")"
   ]
  },
  {
   "cell_type": "code",
   "execution_count": 44,
   "id": "e905aa69-bb34-453f-b4d9-162d77294135",
   "metadata": {},
   "outputs": [],
   "source": [
    "class Database:\n",
    "    _connection = None  # 클래스 변수로 연결 상태 관리\n",
    "\n",
    "    @staticmethod\n",
    "    def get_connection():\n",
    "        if Database._connection is None or not Database._connection.is_connected():\n",
    "            Database._connection = connector.connect(\n",
    "                database = NAME,\n",
    "                user = USER,\n",
    "                password = PASSWORD,\n",
    "                host = IP,\n",
    "                port = PORT\n",
    "            )\n",
    "        return Database._connection"
   ]
  },
  {
   "cell_type": "code",
   "execution_count": 66,
   "id": "aec7eba5-5013-482f-aacb-248c133afe4b",
   "metadata": {},
   "outputs": [],
   "source": [
    "def execute(query, values=None):\n",
    "    try:\n",
    "        conn = Database.get_connection()\n",
    "        cursor = conn.cursor()\n",
    "\n",
    "        # values가 있으면 쿼리와 함께 전달\n",
    "        if values:\n",
    "            cursor.execute(query, values)\n",
    "        else:\n",
    "            cursor.execute(query)\n",
    "\n",
    "        rows = cursor.fetchall()\n",
    "        for row in rows:\n",
    "            print(row)\n",
    "\n",
    "        cursor.close()\n",
    "    except connector.Error as e:\n",
    "        print(f\"Error: {e}\")"
   ]
  },
  {
   "cell_type": "code",
   "execution_count": 67,
   "id": "dc16f979-7859-4089-89ce-1e99d8653ed8",
   "metadata": {},
   "outputs": [
    {
     "name": "stdout",
     "output_type": "stream",
     "text": [
      "('DDC_count',)\n",
      "('ISBN_rent_count',)\n",
      "('book',)\n",
      "('recent_rent',)\n",
      "('rent',)\n",
      "('rent_count',)\n"
     ]
    }
   ],
   "source": [
    "execute(\"SHOW TABLES\")"
   ]
  },
  {
   "cell_type": "code",
   "execution_count": 68,
   "id": "57e5c59c-d67e-4068-8283-e1b1980864b4",
   "metadata": {},
   "outputs": [],
   "source": [
    "import pandas as pd\n",
    "import numpy as np"
   ]
  },
  {
   "cell_type": "code",
   "execution_count": 51,
   "id": "91c5506f-9bd6-4ea8-8ccc-01f57ce58b65",
   "metadata": {},
   "outputs": [
    {
     "data": {
      "text/html": [
       "<div>\n",
       "<style scoped>\n",
       "    .dataframe tbody tr th:only-of-type {\n",
       "        vertical-align: middle;\n",
       "    }\n",
       "\n",
       "    .dataframe tbody tr th {\n",
       "        vertical-align: top;\n",
       "    }\n",
       "\n",
       "    .dataframe thead th {\n",
       "        text-align: right;\n",
       "    }\n",
       "</style>\n",
       "<table border=\"1\" class=\"dataframe\">\n",
       "  <thead>\n",
       "    <tr style=\"text-align: right;\">\n",
       "      <th></th>\n",
       "      <th>도서ID</th>\n",
       "      <th>등록일자</th>\n",
       "      <th>수서방법</th>\n",
       "      <th>분류코드</th>\n",
       "      <th>ISBN</th>\n",
       "      <th>서명</th>\n",
       "      <th>저자</th>\n",
       "      <th>출판사</th>\n",
       "      <th>출판년도</th>\n",
       "      <th>소장위치</th>\n",
       "    </tr>\n",
       "  </thead>\n",
       "  <tbody>\n",
       "    <tr>\n",
       "      <th>0</th>\n",
       "      <td>SS_270312</td>\n",
       "      <td>2017-09-13</td>\n",
       "      <td>학과신청</td>\n",
       "      <td>194</td>\n",
       "      <td>9782020658706</td>\n",
       "      <td>Le courage de la verite :le gouvernement de so...</td>\n",
       "      <td>Foucault, Michel</td>\n",
       "      <td>Gallimard</td>\n",
       "      <td>2009</td>\n",
       "      <td>4층인문</td>\n",
       "    </tr>\n",
       "    <tr>\n",
       "      <th>1</th>\n",
       "      <td>SS_233793</td>\n",
       "      <td>2008-10-13</td>\n",
       "      <td>수서정보없음</td>\n",
       "      <td>160</td>\n",
       "      <td>9788995605189</td>\n",
       "      <td>김나지움 논리학입문</td>\n",
       "      <td>Hegel, Georg Wilhelm Friedrich</td>\n",
       "      <td>용의숲</td>\n",
       "      <td>2008</td>\n",
       "      <td>보존서고</td>\n",
       "    </tr>\n",
       "    <tr>\n",
       "      <th>2</th>\n",
       "      <td>SS_233788</td>\n",
       "      <td>2008-10-13</td>\n",
       "      <td>수서정보없음</td>\n",
       "      <td>160</td>\n",
       "      <td>9788995605189</td>\n",
       "      <td>김나지움 논리학입문</td>\n",
       "      <td>Hegel, Georg Wilhelm Friedrich</td>\n",
       "      <td>용의숲</td>\n",
       "      <td>2008</td>\n",
       "      <td>4층인문</td>\n",
       "    </tr>\n",
       "  </tbody>\n",
       "</table>\n",
       "</div>"
      ],
      "text/plain": [
       "        도서ID        등록일자    수서방법 분류코드           ISBN  \\\n",
       "0  SS_270312  2017-09-13    학과신청  194  9782020658706   \n",
       "1  SS_233793  2008-10-13  수서정보없음  160  9788995605189   \n",
       "2  SS_233788  2008-10-13  수서정보없음  160  9788995605189   \n",
       "\n",
       "                                                  서명  \\\n",
       "0  Le courage de la verite :le gouvernement de so...   \n",
       "1                                         김나지움 논리학입문   \n",
       "2                                         김나지움 논리학입문   \n",
       "\n",
       "                               저자        출판사  출판년도  소장위치  \n",
       "0                Foucault, Michel  Gallimard  2009  4층인문  \n",
       "1  Hegel, Georg Wilhelm Friedrich        용의숲  2008  보존서고  \n",
       "2  Hegel, Georg Wilhelm Friedrich        용의숲  2008  4층인문  "
      ]
     },
     "execution_count": 51,
     "metadata": {},
     "output_type": "execute_result"
    }
   ],
   "source": [
    "# 단행본(도서)정보.txt\n",
    "book_df = pd.read_csv('../Data/단행본(도서)정보.txt', sep=',', encoding='EUC-KR')\n",
    "book_df[:3]"
   ]
  },
  {
   "cell_type": "code",
   "execution_count": 69,
   "id": "67030227-1422-4439-a707-0454a205177b",
   "metadata": {},
   "outputs": [
    {
     "name": "stderr",
     "output_type": "stream",
     "text": [
      "/tmp/ipykernel_16354/1967274542.py:8: FutureWarning: Series.__getitem__ treating keys as positions is deprecated. In a future version, integer keys will always be treated as labels (consistent with DataFrame behavior). To access a value by position, use `ser.iloc[pos]`\n",
      "  book_df.loc[i][0], book_df.loc[i][1], book_df.loc[i][2], book_df.loc[i][3],\n",
      "/tmp/ipykernel_16354/1967274542.py:9: FutureWarning: Series.__getitem__ treating keys as positions is deprecated. In a future version, integer keys will always be treated as labels (consistent with DataFrame behavior). To access a value by position, use `ser.iloc[pos]`\n",
      "  book_df.loc[i][4], book_df.loc[i][5], book_df.loc[i][6], book_df.loc[i][7],\n",
      "/tmp/ipykernel_16354/1967274542.py:10: FutureWarning: Series.__getitem__ treating keys as positions is deprecated. In a future version, integer keys will always be treated as labels (consistent with DataFrame behavior). To access a value by position, use `ser.iloc[pos]`\n",
      "  book_df.loc[i][8], book_df.loc[i][9]\n"
     ]
    },
    {
     "name": "stdout",
     "output_type": "stream",
     "text": [
      "Error: 1264 (22003): Out of range value for column 'ISBN' at row 1\n",
      "Error: 1264 (22003): Out of range value for column 'ISBN' at row 1\n",
      "Error: 1264 (22003): Out of range value for column 'ISBN' at row 1\n",
      "Error: 1264 (22003): Out of range value for column 'ISBN' at row 1\n",
      "Error: 1264 (22003): Out of range value for column 'ISBN' at row 1\n",
      "Error: 1264 (22003): Out of range value for column 'ISBN' at row 1\n",
      "Error: 1264 (22003): Out of range value for column 'ISBN' at row 1\n",
      "Error: 1264 (22003): Out of range value for column 'ISBN' at row 1\n",
      "Error: 1264 (22003): Out of range value for column 'ISBN' at row 1\n",
      "Error: 1264 (22003): Out of range value for column 'ISBN' at row 1\n",
      "Error: 1264 (22003): Out of range value for column 'ISBN' at row 1\n",
      "Error: 1264 (22003): Out of range value for column 'ISBN' at row 1\n",
      "Error: 1264 (22003): Out of range value for column 'ISBN' at row 1\n",
      "Error: 1264 (22003): Out of range value for column 'ISBN' at row 1\n",
      "Error: 1264 (22003): Out of range value for column 'ISBN' at row 1\n",
      "Error: 1264 (22003): Out of range value for column 'ISBN' at row 1\n",
      "Error: 1264 (22003): Out of range value for column 'ISBN' at row 1\n",
      "Error: 1264 (22003): Out of range value for column 'ISBN' at row 1\n",
      "Error: 1264 (22003): Out of range value for column 'ISBN' at row 1\n",
      "Error: 1264 (22003): Out of range value for column 'ISBN' at row 1\n",
      "Error: 1264 (22003): Out of range value for column 'ISBN' at row 1\n",
      "Error: 1264 (22003): Out of range value for column 'ISBN' at row 1\n",
      "Error: 1264 (22003): Out of range value for column 'ISBN' at row 1\n",
      "Error: 1264 (22003): Out of range value for column 'ISBN' at row 1\n",
      "Error: 1264 (22003): Out of range value for column 'ISBN' at row 1\n",
      "Error: 1264 (22003): Out of range value for column 'ISBN' at row 1\n",
      "Error: 1264 (22003): Out of range value for column 'ISBN' at row 1\n",
      "Error: 1264 (22003): Out of range value for column 'ISBN' at row 1\n",
      "Error: 1264 (22003): Out of range value for column 'ISBN' at row 1\n",
      "Error: 1264 (22003): Out of range value for column 'ISBN' at row 1\n",
      "Error: 1264 (22003): Out of range value for column 'ISBN' at row 1\n",
      "Error: 1264 (22003): Out of range value for column 'ISBN' at row 1\n"
     ]
    },
    {
     "ename": "KeyboardInterrupt",
     "evalue": "",
     "output_type": "error",
     "traceback": [
      "\u001b[0;31m---------------------------------------------------------------------------\u001b[0m",
      "\u001b[0;31mKeyboardInterrupt\u001b[0m                         Traceback (most recent call last)",
      "Cell \u001b[0;32mIn[69], line 12\u001b[0m\n\u001b[1;32m      2\u001b[0m query \u001b[38;5;241m=\u001b[39m \u001b[38;5;124m\"\"\"\u001b[39m\n\u001b[1;32m      3\u001b[0m \u001b[38;5;124mINSERT INTO book \u001b[39m\n\u001b[1;32m      4\u001b[0m \u001b[38;5;124m(ID, registration, get_course, DDC, ISBN, title, author, publisher, publication_year, location) \u001b[39m\n\u001b[1;32m      5\u001b[0m \u001b[38;5;124mVALUES (\u001b[39m\u001b[38;5;132;01m%s\u001b[39;00m\u001b[38;5;124m, \u001b[39m\u001b[38;5;132;01m%s\u001b[39;00m\u001b[38;5;124m, \u001b[39m\u001b[38;5;132;01m%s\u001b[39;00m\u001b[38;5;124m, \u001b[39m\u001b[38;5;132;01m%s\u001b[39;00m\u001b[38;5;124m, \u001b[39m\u001b[38;5;132;01m%s\u001b[39;00m\u001b[38;5;124m, \u001b[39m\u001b[38;5;132;01m%s\u001b[39;00m\u001b[38;5;124m, \u001b[39m\u001b[38;5;132;01m%s\u001b[39;00m\u001b[38;5;124m, \u001b[39m\u001b[38;5;132;01m%s\u001b[39;00m\u001b[38;5;124m, \u001b[39m\u001b[38;5;132;01m%s\u001b[39;00m\u001b[38;5;124m, \u001b[39m\u001b[38;5;132;01m%s\u001b[39;00m\u001b[38;5;124m)\u001b[39m\n\u001b[1;32m      6\u001b[0m \u001b[38;5;124m\u001b[39m\u001b[38;5;124m\"\"\"\u001b[39m\n\u001b[1;32m      7\u001b[0m values \u001b[38;5;241m=\u001b[39m (\n\u001b[1;32m      8\u001b[0m     book_df\u001b[38;5;241m.\u001b[39mloc[i][\u001b[38;5;241m0\u001b[39m], book_df\u001b[38;5;241m.\u001b[39mloc[i][\u001b[38;5;241m1\u001b[39m], book_df\u001b[38;5;241m.\u001b[39mloc[i][\u001b[38;5;241m2\u001b[39m], book_df\u001b[38;5;241m.\u001b[39mloc[i][\u001b[38;5;241m3\u001b[39m],\n\u001b[1;32m      9\u001b[0m     book_df\u001b[38;5;241m.\u001b[39mloc[i][\u001b[38;5;241m4\u001b[39m], book_df\u001b[38;5;241m.\u001b[39mloc[i][\u001b[38;5;241m5\u001b[39m], book_df\u001b[38;5;241m.\u001b[39mloc[i][\u001b[38;5;241m6\u001b[39m], book_df\u001b[38;5;241m.\u001b[39mloc[i][\u001b[38;5;241m7\u001b[39m],\n\u001b[1;32m     10\u001b[0m     book_df\u001b[38;5;241m.\u001b[39mloc[i][\u001b[38;5;241m8\u001b[39m], book_df\u001b[38;5;241m.\u001b[39mloc[i][\u001b[38;5;241m9\u001b[39m]\n\u001b[1;32m     11\u001b[0m )\n\u001b[0;32m---> 12\u001b[0m \u001b[43mexecute\u001b[49m\u001b[43m(\u001b[49m\u001b[43mquery\u001b[49m\u001b[43m,\u001b[49m\u001b[43m \u001b[49m\u001b[43mvalues\u001b[49m\u001b[43m)\u001b[49m\n",
      "Cell \u001b[0;32mIn[66], line 8\u001b[0m, in \u001b[0;36mexecute\u001b[0;34m(query, values)\u001b[0m\n\u001b[1;32m      6\u001b[0m \u001b[38;5;66;03m# values가 있으면 쿼리와 함께 전달\u001b[39;00m\n\u001b[1;32m      7\u001b[0m \u001b[38;5;28;01mif\u001b[39;00m values:\n\u001b[0;32m----> 8\u001b[0m     \u001b[43mcursor\u001b[49m\u001b[38;5;241;43m.\u001b[39;49m\u001b[43mexecute\u001b[49m\u001b[43m(\u001b[49m\u001b[43mquery\u001b[49m\u001b[43m,\u001b[49m\u001b[43m \u001b[49m\u001b[43mvalues\u001b[49m\u001b[43m)\u001b[49m\n\u001b[1;32m      9\u001b[0m \u001b[38;5;28;01melse\u001b[39;00m:\n\u001b[1;32m     10\u001b[0m     cursor\u001b[38;5;241m.\u001b[39mexecute(query)\n",
      "File \u001b[0;32m~/miniconda3/envs/datathon/lib/python3.11/site-packages/mysql/connector/cursor.py:551\u001b[0m, in \u001b[0;36mMySQLCursor.execute\u001b[0;34m(self, operation, params, multi)\u001b[0m\n\u001b[1;32m    549\u001b[0m \u001b[38;5;28;01melse\u001b[39;00m:\n\u001b[1;32m    550\u001b[0m     \u001b[38;5;28;01mtry\u001b[39;00m:\n\u001b[0;32m--> 551\u001b[0m         \u001b[38;5;28mself\u001b[39m\u001b[38;5;241m.\u001b[39m_handle_result(\u001b[38;5;28;43mself\u001b[39;49m\u001b[38;5;241;43m.\u001b[39;49m\u001b[43m_connection\u001b[49m\u001b[38;5;241;43m.\u001b[39;49m\u001b[43mcmd_query\u001b[49m\u001b[43m(\u001b[49m\u001b[43mstmt\u001b[49m\u001b[43m)\u001b[49m)\n\u001b[1;32m    552\u001b[0m     \u001b[38;5;28;01mexcept\u001b[39;00m errors\u001b[38;5;241m.\u001b[39mInterfaceError:\n\u001b[1;32m    553\u001b[0m         \u001b[38;5;28;01mif\u001b[39;00m \u001b[38;5;28mself\u001b[39m\u001b[38;5;241m.\u001b[39m_connection\u001b[38;5;241m.\u001b[39m_have_next_result:  \u001b[38;5;66;03m# pylint: disable=W0212\u001b[39;00m\n",
      "File \u001b[0;32m~/miniconda3/envs/datathon/lib/python3.11/site-packages/mysql/connector/connection.py:490\u001b[0m, in \u001b[0;36mMySQLConnection.cmd_query\u001b[0;34m(self, query, raw, buffered, raw_as_string)\u001b[0m\n\u001b[1;32m    488\u001b[0m \u001b[38;5;28;01mif\u001b[39;00m \u001b[38;5;129;01mnot\u001b[39;00m \u001b[38;5;28misinstance\u001b[39m(query, \u001b[38;5;28mbytes\u001b[39m):\n\u001b[1;32m    489\u001b[0m     query \u001b[38;5;241m=\u001b[39m query\u001b[38;5;241m.\u001b[39mencode(\u001b[38;5;124m'\u001b[39m\u001b[38;5;124mutf-8\u001b[39m\u001b[38;5;124m'\u001b[39m)\n\u001b[0;32m--> 490\u001b[0m result \u001b[38;5;241m=\u001b[39m \u001b[38;5;28mself\u001b[39m\u001b[38;5;241m.\u001b[39m_handle_result(\u001b[38;5;28;43mself\u001b[39;49m\u001b[38;5;241;43m.\u001b[39;49m\u001b[43m_send_cmd\u001b[49m\u001b[43m(\u001b[49m\u001b[43mServerCmd\u001b[49m\u001b[38;5;241;43m.\u001b[39;49m\u001b[43mQUERY\u001b[49m\u001b[43m,\u001b[49m\u001b[43m \u001b[49m\u001b[43mquery\u001b[49m\u001b[43m)\u001b[49m)\n\u001b[1;32m    492\u001b[0m \u001b[38;5;28;01mif\u001b[39;00m \u001b[38;5;28mself\u001b[39m\u001b[38;5;241m.\u001b[39m_have_next_result:\n\u001b[1;32m    493\u001b[0m     \u001b[38;5;28;01mraise\u001b[39;00m errors\u001b[38;5;241m.\u001b[39mInterfaceError(\n\u001b[1;32m    494\u001b[0m         \u001b[38;5;124m'\u001b[39m\u001b[38;5;124mUse cmd_query_iter for statements with multiple queries.\u001b[39m\u001b[38;5;124m'\u001b[39m)\n",
      "File \u001b[0;32m~/miniconda3/envs/datathon/lib/python3.11/site-packages/mysql/connector/connection.py:267\u001b[0m, in \u001b[0;36mMySQLConnection._send_cmd\u001b[0;34m(self, command, argument, packet_number, packet, expect_response, compressed_packet_number)\u001b[0m\n\u001b[1;32m    265\u001b[0m \u001b[38;5;28;01mif\u001b[39;00m \u001b[38;5;129;01mnot\u001b[39;00m expect_response:\n\u001b[1;32m    266\u001b[0m     \u001b[38;5;28;01mreturn\u001b[39;00m \u001b[38;5;28;01mNone\u001b[39;00m\n\u001b[0;32m--> 267\u001b[0m \u001b[38;5;28;01mreturn\u001b[39;00m \u001b[38;5;28;43mself\u001b[39;49m\u001b[38;5;241;43m.\u001b[39;49m\u001b[43m_socket\u001b[49m\u001b[38;5;241;43m.\u001b[39;49m\u001b[43mrecv\u001b[49m\u001b[43m(\u001b[49m\u001b[43m)\u001b[49m\n",
      "File \u001b[0;32m~/miniconda3/envs/datathon/lib/python3.11/site-packages/mysql/connector/network.py:241\u001b[0m, in \u001b[0;36mBaseMySQLSocket.recv_plain\u001b[0;34m(self)\u001b[0m\n\u001b[1;32m    239\u001b[0m packet_len \u001b[38;5;241m=\u001b[39m \u001b[38;5;241m0\u001b[39m\n\u001b[1;32m    240\u001b[0m \u001b[38;5;28;01mwhile\u001b[39;00m packet_len \u001b[38;5;241m<\u001b[39m \u001b[38;5;241m4\u001b[39m:\n\u001b[0;32m--> 241\u001b[0m     chunk \u001b[38;5;241m=\u001b[39m \u001b[38;5;28;43mself\u001b[39;49m\u001b[38;5;241;43m.\u001b[39;49m\u001b[43msock\u001b[49m\u001b[38;5;241;43m.\u001b[39;49m\u001b[43mrecv\u001b[49m\u001b[43m(\u001b[49m\u001b[38;5;241;43m4\u001b[39;49m\u001b[43m \u001b[49m\u001b[38;5;241;43m-\u001b[39;49m\u001b[43m \u001b[49m\u001b[43mpacket_len\u001b[49m\u001b[43m)\u001b[49m\n\u001b[1;32m    242\u001b[0m     \u001b[38;5;28;01mif\u001b[39;00m \u001b[38;5;129;01mnot\u001b[39;00m chunk:\n\u001b[1;32m    243\u001b[0m         \u001b[38;5;28;01mraise\u001b[39;00m errors\u001b[38;5;241m.\u001b[39mInterfaceError(errno\u001b[38;5;241m=\u001b[39m\u001b[38;5;241m2013\u001b[39m)\n",
      "\u001b[0;31mKeyboardInterrupt\u001b[0m: "
     ]
    }
   ],
   "source": [
    "for i in range(1, len(book_df)):\n",
    "    query = \"\"\"\n",
    "    INSERT INTO book \n",
    "    (ID, registration, get_course, DDC, ISBN, title, author, publisher, publication_year, location) \n",
    "    VALUES (%s, %s, %s, %s, %s, %s, %s, %s, %s, %s)\n",
    "    \"\"\"\n",
    "    values = (\n",
    "        book_df.iloc[i, 0], book_df.iloc[i, 1], book_df.iloc[i, 2], book_df.iloc[i, 3],\n",
    "        book_df.iloc[i, 4], book_df.iloc[i, 5], book_df.iloc[i, 6], book_df.iloc[i, 7],\n",
    "        book_df.iloc[i, 8], book_df.iloc[i, 9]\n",
    "    )\n",
    "    execute(query, values)"
   ]
  },
  {
   "cell_type": "code",
   "execution_count": 57,
   "id": "ddfee9d3-c5a3-4008-8e30-c986c3b71ffd",
   "metadata": {},
   "outputs": [
    {
     "data": {
      "text/plain": [
       "도서ID                                            SS_270312\n",
       "등록일자                                           2017-09-13\n",
       "수서방법                                                 학과신청\n",
       "분류코드                                                  194\n",
       "ISBN                                        9782020658706\n",
       "서명      Le courage de la verite :le gouvernement de so...\n",
       "저자                                       Foucault, Michel\n",
       "출판사                                             Gallimard\n",
       "출판년도                                                 2009\n",
       "소장위치                                                 4층인문\n",
       "Name: 0, dtype: object"
      ]
     },
     "execution_count": 57,
     "metadata": {},
     "output_type": "execute_result"
    }
   ],
   "source": [
    "book_df.loc[0]"
   ]
  },
  {
   "cell_type": "code",
   "execution_count": null,
   "id": "1598a4ea-83c1-465d-818e-e2682088c165",
   "metadata": {},
   "outputs": [],
   "source": []
  }
 ],
 "metadata": {
  "kernelspec": {
   "display_name": "Datathon",
   "language": "python",
   "name": "datathon"
  },
  "language_info": {
   "codemirror_mode": {
    "name": "ipython",
    "version": 3
   },
   "file_extension": ".py",
   "mimetype": "text/x-python",
   "name": "python",
   "nbconvert_exporter": "python",
   "pygments_lexer": "ipython3",
   "version": "3.11.11"
  }
 },
 "nbformat": 4,
 "nbformat_minor": 5
}
