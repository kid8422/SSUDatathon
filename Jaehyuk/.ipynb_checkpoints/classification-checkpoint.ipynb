{
 "cells": [
  {
   "cell_type": "code",
   "execution_count": 10,
   "id": "48f9b9cb-c2f3-42e8-938a-fef3d245c881",
   "metadata": {},
   "outputs": [],
   "source": [
    "import os\n",
    "\n",
    "from mysql import connector\n",
    "from dotenv import load_dotenv\n",
    "\n",
    "# Access environment variables\n",
    "load_dotenv()\n",
    "\n",
    "NAME = os.getenv(\"DB_NAME\")\n",
    "USER = os.getenv(\"DB_USER\")\n",
    "PASSWORD = os.getenv(\"DB_PASSWORD\")\n",
    "IP = os.getenv(\"DB_IP\")\n",
    "PORT = os.getenv(\"DB_PORT\")"
   ]
  },
  {
   "cell_type": "code",
   "execution_count": 11,
   "id": "117d9710-2a1f-4f0c-9cbc-1cd2f98713c9",
   "metadata": {},
   "outputs": [],
   "source": [
    "class Database:\n",
    "    _connection = None  # 클래스 변수로 연결 상태 관리\n",
    "\n",
    "    @staticmethod\n",
    "    def get_connection():\n",
    "        if Database._connection is None or not Database._connection.is_connected():\n",
    "            Database._connection = connector.connect(\n",
    "                database = NAME,\n",
    "                user = USER,\n",
    "                password = PASSWORD,\n",
    "                host = IP,\n",
    "                port = PORT\n",
    "            )\n",
    "        return Database._connection"
   ]
  },
  {
   "cell_type": "code",
   "execution_count": 12,
   "id": "c07683ae-d074-46c4-bc3c-07f6a6ccafb8",
   "metadata": {},
   "outputs": [],
   "source": [
    "def execute(query, values=None):\n",
    "    try:\n",
    "        conn = Database.get_connection()\n",
    "        cursor = conn.cursor()\n",
    "\n",
    "        # values가 있으면 쿼리와 함께 전달\n",
    "        if values:\n",
    "            cursor.execute(query, values)\n",
    "        else:\n",
    "            cursor.execute(query)\n",
    "\n",
    "        rows = cursor.fetchall()\n",
    "        for row in rows:\n",
    "            print(row)\n",
    "\n",
    "        cursor.close()\n",
    "    except connector.Error as e:\n",
    "        print(f\"Error: {e}\")"
   ]
  },
  {
   "cell_type": "code",
   "execution_count": 13,
   "id": "0157e336-1786-4479-bf84-4cff2526f150",
   "metadata": {},
   "outputs": [],
   "source": [
    "def classify_ddc(ddc_code):\n",
    "    \n",
    "    ddc_str = str(ddc_code)\n",
    "    main_part = ddc_str.split(\".\")[0]\n",
    "    \n",
    "    # 대분류와 중분류 생성\n",
    "    major_class = f\"{main_part[0]}00\"\n",
    "    minor_class = f\"{main_part[:2].ljust(2, '0')}0\"\n",
    "    \n",
    "    return {\"large_class\": major_class, \"middle_class\": minor_class}"
   ]
  },
  {
   "cell_type": "code",
   "execution_count": null,
   "id": "31df883c-8edf-49f7-a27f-e302fa986cbe",
   "metadata": {},
   "outputs": [],
   "source": [
    "def update_book_counts(ddc_code):\n",
    "    try:\n",
    "        # DDC 코드로 대분류와 중분류 계산\n",
    "        ddc_classes = classify_ddc(ddc_code)\n",
    "        large_class = ddc_classes[\"large_class\"]\n",
    "        middle_class = ddc_classes[\"middle_class\"]\n",
    "\n",
    "        # 대분류 테이블 업데이트\n",
    "        large_query = \"\"\"\n",
    "        INSERT INTO large_classification (category, book_count)\n",
    "        VALUES (%s, 1)\n",
    "        ON DUPLICATE KEY UPDATE book_count = book_count + 1;\n",
    "        \"\"\"\n",
    "        execute(large_query, (large_class,))\n",
    "\n",
    "        # 중분류 테이블 업데이트\n",
    "        middle_query = \"\"\"\n",
    "        INSERT INTO middle_classification (category, book_count)\n",
    "        VALUES (%s, 1)\n",
    "        ON DUPLICATE KEY UPDATE book_count = book_count + 1;\n",
    "        \"\"\"\n",
    "        execute(middle_query, (middle_class,))\n",
    "\n",
    "        # 커밋하여 변경 사항 저장\n",
    "        Database.get_connection().commit()\n",
    "        print(f\"Updated counts for large_class: {large_class}, middle_class: {middle_class}\")\n",
    "    except Exception as e:\n",
    "        print(f\"Error updating book counts: {e}\")"
   ]
  },
  {
   "cell_type": "code",
   "execution_count": null,
   "id": "cee850df-bad2-475b-abfb-c7eb909ff9b4",
   "metadata": {},
   "outputs": [],
   "source": []
  }
 ],
 "metadata": {
  "kernelspec": {
   "display_name": "Datathon",
   "language": "python",
   "name": "datathon"
  },
  "language_info": {
   "codemirror_mode": {
    "name": "ipython",
    "version": 3
   },
   "file_extension": ".py",
   "mimetype": "text/x-python",
   "name": "python",
   "nbconvert_exporter": "python",
   "pygments_lexer": "ipython3",
   "version": "3.11.11"
  }
 },
 "nbformat": 4,
 "nbformat_minor": 5
}
