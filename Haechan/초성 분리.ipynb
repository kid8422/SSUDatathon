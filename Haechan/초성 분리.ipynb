{
 "cells": [
  {
   "cell_type": "code",
   "execution_count": 1,
   "id": "f76d7a60-e8cb-4b5c-93b0-8812605448cc",
   "metadata": {},
   "outputs": [
    {
     "name": "stdout",
     "output_type": "stream",
     "text": [
      "ㅇㄴㅎㅅㅇ!Hello123.\n"
     ]
    }
   ],
   "source": [
    "def keep_korean_consonants_no_spaces(text):\n",
    "    def extract_chosung(char):\n",
    "        # 한글 유니코드 범위 확인\n",
    "        if '가' <= char <= '힣':\n",
    "            base = ord('가')\n",
    "            char_code = ord(char) - base\n",
    "            # 초성 계산\n",
    "            cho = char_code // 588\n",
    "            # 초성 리스트\n",
    "            chosung = [\n",
    "                \"ㄱ\", \"ㄲ\", \"ㄴ\", \"ㄷ\", \"ㄸ\", \"ㄹ\", \"ㅁ\", \"ㅂ\", \"ㅃ\", \"ㅅ\", \"ㅆ\",\n",
    "                \"ㅇ\", \"ㅈ\", \"ㅉ\", \"ㅊ\", \"ㅋ\", \"ㅌ\", \"ㅍ\", \"ㅎ\"\n",
    "            ]\n",
    "            return chosung[cho]\n",
    "        else:\n",
    "            return char  # 한글이 아니면 그대로 반환\n",
    "\n",
    "    # 입력 텍스트를 한 글자씩 처리하면서 띄어쓰기만 제거\n",
    "    return ''.join(extract_chosung(char) if char != ' ' else '' for char in text)\n",
    "\n",
    "# 테스트\n",
    "input_text = \"안녕하세요! Hello 123.\"\n",
    "output = keep_korean_consonants_no_spaces(input_text)\n",
    "print(output)\n"
   ]
  },
  {
   "cell_type": "code",
   "execution_count": 2,
   "id": "0abe20bc-ef6f-49a9-8ca8-f34c9037d76e",
   "metadata": {},
   "outputs": [
    {
     "name": "stdout",
     "output_type": "stream",
     "text": [
      "ㅇㅏㄴㄴㅕㅇㅎㅏㅅㅔㅇㅛ! Hello 123.\n"
     ]
    }
   ],
   "source": [
    "def split_korean(text):\n",
    "    def decompose_korean(char):\n",
    "        # 한글 유니코드 범위 확인\n",
    "        if '가' <= char <= '힣':\n",
    "            base = ord('가')\n",
    "            char_code = ord(char) - base\n",
    "            # 초성, 중성, 종성 분리\n",
    "            cho = char_code // 588\n",
    "            jung = (char_code % 588) // 28\n",
    "            jong = char_code % 28\n",
    "            # 초성, 중성, 종성 리스트\n",
    "            chosung = [\n",
    "                \"ㄱ\", \"ㄲ\", \"ㄴ\", \"ㄷ\", \"ㄸ\", \"ㄹ\", \"ㅁ\", \"ㅂ\", \"ㅃ\", \"ㅅ\", \"ㅆ\",\n",
    "                \"ㅇ\", \"ㅈ\", \"ㅉ\", \"ㅊ\", \"ㅋ\", \"ㅌ\", \"ㅍ\", \"ㅎ\"\n",
    "            ]\n",
    "            jungsung = [\n",
    "                \"ㅏ\", \"ㅐ\", \"ㅑ\", \"ㅒ\", \"ㅓ\", \"ㅔ\", \"ㅕ\", \"ㅖ\", \"ㅗ\", \"ㅘ\", \"ㅙ\",\n",
    "                \"ㅚ\", \"ㅛ\", \"ㅜ\", \"ㅝ\", \"ㅞ\", \"ㅟ\", \"ㅠ\", \"ㅡ\", \"ㅢ\", \"ㅣ\"\n",
    "            ]\n",
    "            jongsung = [\n",
    "                \"\", \"ㄱ\", \"ㄲ\", \"ㄳ\", \"ㄴ\", \"ㄵ\", \"ㄶ\", \"ㄷ\", \"ㄹ\", \"ㄺ\", \"ㄻ\", \"ㄼ\",\n",
    "                \"ㄽ\", \"ㄾ\", \"ㄿ\", \"ㅀ\", \"ㅁ\", \"ㅂ\", \"ㅄ\", \"ㅅ\", \"ㅆ\", \"ㅇ\", \"ㅈ\", \"ㅊ\",\n",
    "                \"ㅋ\", \"ㅌ\", \"ㅍ\", \"ㅎ\"\n",
    "            ]\n",
    "            # 초성, 중성, 종성 반환\n",
    "            return chosung[cho] + jungsung[jung] + (jongsung[jong] if jong != 0 else \"\")\n",
    "        else:\n",
    "            return char  # 한글이 아니면 그대로 반환\n",
    "\n",
    "    # 입력 텍스트를 한 글자씩 분리 후 처리\n",
    "    return ''.join(decompose_korean(char) for char in text)\n",
    "\n",
    "# 테스트\n",
    "input_text = \"안녕하세요! Hello 123.\"\n",
    "output = split_korean(input_text)\n",
    "print(output)\n"
   ]
  },
  {
   "cell_type": "code",
   "execution_count": null,
   "id": "1b8a2252-ff79-4712-ad3d-88ca052dab3c",
   "metadata": {},
   "outputs": [],
   "source": []
  }
 ],
 "metadata": {
  "kernelspec": {
   "display_name": "Datathon",
   "language": "python",
   "name": "datathon"
  },
  "language_info": {
   "codemirror_mode": {
    "name": "ipython",
    "version": 3
   },
   "file_extension": ".py",
   "mimetype": "text/x-python",
   "name": "python",
   "nbconvert_exporter": "python",
   "pygments_lexer": "ipython3",
   "version": "3.11.11"
  }
 },
 "nbformat": 4,
 "nbformat_minor": 5
}
