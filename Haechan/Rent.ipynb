{
 "cells": [
  {
   "cell_type": "code",
   "execution_count": 1,
   "id": "d1aab85e-1908-48ba-8850-d40eb1a7b4cc",
   "metadata": {},
   "outputs": [],
   "source": [
    "import pandas as pd\n",
    "import numpy as np\n",
    "import matplotlib.pyplot as plt\n",
    "import matplotlib as mpl"
   ]
  },
  {
   "cell_type": "code",
   "execution_count": 2,
   "id": "bc0288de-dcc7-431c-8f96-24d670198f22",
   "metadata": {},
   "outputs": [
    {
     "name": "stdout",
     "output_type": "stream",
     "text": [
      "E: Could not open lock file /var/lib/apt/lists/lock - open (13: Permission denied)\n",
      "E: Unable to lock directory /var/lib/apt/lists/\n",
      "W: Problem unlinking the file /var/cache/apt/pkgcache.bin - RemoveCaches (13: Permission denied)\n",
      "W: Problem unlinking the file /var/cache/apt/srcpkgcache.bin - RemoveCaches (13: Permission denied)\n",
      "E: Could not open lock file /var/lib/dpkg/lock-frontend - open (13: Permission denied)\n",
      "E: Unable to acquire the dpkg frontend lock (/var/lib/dpkg/lock-frontend), are you root?\n"
     ]
    }
   ],
   "source": [
    "!apt-get update -qq\n",
    "!apt-get install fonts-nanum -qq > /dev/null"
   ]
  },
  {
   "cell_type": "code",
   "execution_count": 3,
   "id": "bcb5bac5-b9d1-4078-b973-1df7d9890e79",
   "metadata": {},
   "outputs": [
    {
     "data": {
      "text/html": [
       "<div>\n",
       "<style scoped>\n",
       "    .dataframe tbody tr th:only-of-type {\n",
       "        vertical-align: middle;\n",
       "    }\n",
       "\n",
       "    .dataframe tbody tr th {\n",
       "        vertical-align: top;\n",
       "    }\n",
       "\n",
       "    .dataframe thead th {\n",
       "        text-align: right;\n",
       "    }\n",
       "</style>\n",
       "<table border=\"1\" class=\"dataframe\">\n",
       "  <thead>\n",
       "    <tr style=\"text-align: right;\">\n",
       "      <th></th>\n",
       "      <th>도서ID</th>\n",
       "      <th>대출일시</th>\n",
       "    </tr>\n",
       "  </thead>\n",
       "  <tbody>\n",
       "    <tr>\n",
       "      <th>0</th>\n",
       "      <td>SS_213406</td>\n",
       "      <td>2004-11-15 12:33:01</td>\n",
       "    </tr>\n",
       "    <tr>\n",
       "      <th>1</th>\n",
       "      <td>SS_213528</td>\n",
       "      <td>2004-12-04 12:20:33</td>\n",
       "    </tr>\n",
       "    <tr>\n",
       "      <th>2</th>\n",
       "      <td>SS_213528</td>\n",
       "      <td>2004-11-18 18:05:08</td>\n",
       "    </tr>\n",
       "  </tbody>\n",
       "</table>\n",
       "</div>"
      ],
      "text/plain": [
       "        도서ID                 대출일시\n",
       "0  SS_213406  2004-11-15 12:33:01\n",
       "1  SS_213528  2004-12-04 12:20:33\n",
       "2  SS_213528  2004-11-18 18:05:08"
      ]
     },
     "execution_count": 3,
     "metadata": {},
     "output_type": "execute_result"
    }
   ],
   "source": [
    "# 대출정보.txt\n",
    "rent_df = pd.read_csv('../Data/대출정보.txt', sep=',', encoding='EUC-KR')\n",
    "rent_df[:3]"
   ]
  },
  {
   "cell_type": "code",
   "execution_count": 4,
   "id": "1c5909b7-3218-45d6-949e-83dea509135e",
   "metadata": {},
   "outputs": [
    {
     "name": "stdout",
     "output_type": "stream",
     "text": [
      "<class 'pandas.core.frame.DataFrame'>\n",
      "RangeIndex: 916709 entries, 0 to 916708\n",
      "Data columns (total 2 columns):\n",
      " #   Column  Non-Null Count   Dtype \n",
      "---  ------  --------------   ----- \n",
      " 0   도서ID    916709 non-null  object\n",
      " 1   대출일시    916709 non-null  object\n",
      "dtypes: object(2)\n",
      "memory usage: 14.0+ MB\n"
     ]
    }
   ],
   "source": [
    "rent_df.info()"
   ]
  },
  {
   "cell_type": "code",
   "execution_count": 5,
   "id": "cfe51635-d16a-4308-b6da-34e66e6faadf",
   "metadata": {},
   "outputs": [
    {
     "data": {
      "text/plain": [
       "도서ID    0.0\n",
       "대출일시    0.0\n",
       "dtype: float64"
      ]
     },
     "execution_count": 5,
     "metadata": {},
     "output_type": "execute_result"
    }
   ],
   "source": [
    "rent_df.isnull().sum() / len(rent_df)"
   ]
  },
  {
   "cell_type": "code",
   "execution_count": 6,
   "id": "00b071f9-74c1-4b1f-a077-104b3e223f5a",
   "metadata": {},
   "outputs": [
    {
     "name": "stderr",
     "output_type": "stream",
     "text": [
      "/tmp/ipykernel_14839/1290547690.py:2: FutureWarning: DataFrame.applymap has been deprecated. Use DataFrame.map instead.\n",
      "  max_lengths = rent_df.astype(str).applymap(len).max()\n"
     ]
    },
    {
     "name": "stdout",
     "output_type": "stream",
     "text": [
      "도서ID     9\n",
      "대출일시    19\n",
      "dtype: int64\n"
     ]
    }
   ],
   "source": [
    "# 각 열에서 가장 긴 데이터 길이 계산\n",
    "max_lengths = rent_df.astype(str).applymap(len).max()\n",
    "\n",
    "# 결과 출력\n",
    "print(max_lengths)"
   ]
  },
  {
   "cell_type": "code",
   "execution_count": 7,
   "id": "1bc8ec8b-bdff-416a-bd9c-5f6efcfe8216",
   "metadata": {},
   "outputs": [],
   "source": [
    "# '대출일시'에서 월 추출\n",
    "rent_df['대출월'] = pd.to_datetime(rent_df['대출일시']).dt.month"
   ]
  },
  {
   "cell_type": "code",
   "execution_count": 8,
   "id": "722e8c0a-813f-46f2-94df-49d2185db448",
   "metadata": {},
   "outputs": [],
   "source": [
    "# 월별 데이터 카운트\n",
    "month_counts = rent_df['대출월'].value_counts().sort_index()"
   ]
  },
  {
   "cell_type": "code",
   "execution_count": 9,
   "id": "8d8d8692-8528-4961-b94b-45b207497465",
   "metadata": {},
   "outputs": [
    {
     "data": {
      "text/plain": [
       "대출월\n",
       "1      52315\n",
       "2      38463\n",
       "3     102988\n",
       "4      89882\n",
       "5      98078\n",
       "6      82872\n",
       "7      52480\n",
       "8      45394\n",
       "9      97414\n",
       "10     85139\n",
       "11     97207\n",
       "12     74477\n",
       "Name: count, dtype: int64"
      ]
     },
     "execution_count": 9,
     "metadata": {},
     "output_type": "execute_result"
    }
   ],
   "source": [
    "month_counts"
   ]
  },
  {
   "cell_type": "code",
   "execution_count": 10,
   "id": "f93f6ecf-f6ff-4788-bc39-1128d34efbbd",
   "metadata": {},
   "outputs": [
    {
     "data": {
      "image/png": "[encoded data removed]",
      "text/plain": [
       "<Figure size 800x600 with 1 Axes>"
      ]
     },
     "metadata": {},
     "output_type": "display_data"
    }
   ],
   "source": [
    "# 한글 폰트 설정\n",
    "mpl.rc('font', family='NanumGothic')  # 나눔고딕 폰트 예시\n",
    "\n",
    "plt.figure(figsize=(8, 6))\n",
    "plt.bar(month_counts.index, month_counts.values)\n",
    "plt.xlabel('월')\n",
    "plt.ylabel('대출 건수')\n",
    "plt.title('월별 대출 건수')\n",
    "plt.xticks(month_counts.index)  # 월 값 표시\n",
    "plt.grid(True)\n",
    "plt.show()"
   ]
  },
  {
   "cell_type": "code",
   "execution_count": null,
   "id": "c663db15-e011-4a3d-89b6-2e0b3b4e8cb4",
   "metadata": {},
   "outputs": [],
   "source": []
  }
 ],
 "metadata": {
  "kernelspec": {
   "display_name": "Datathon",
   "language": "python",
   "name": "datathon"
  },
  "language_info": {
   "codemirror_mode": {
    "name": "ipython",
    "version": 3
   },
   "file_extension": ".py",
   "mimetype": "text/x-python",
   "name": "python",
   "nbconvert_exporter": "python",
   "pygments_lexer": "ipython3",
   "version": "3.11.11"
  }
 },
 "nbformat": 4,
 "nbformat_minor": 5
}
