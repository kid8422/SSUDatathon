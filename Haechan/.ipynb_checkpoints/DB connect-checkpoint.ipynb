{
 "cells": [
  {
   "cell_type": "code",
   "execution_count": 41,
   "id": "776c5770-6da5-496a-844e-468b7f954baf",
   "metadata": {},
   "outputs": [],
   "source": [
    "import os\n",
    "\n",
    "from mysql import connector\n",
    "from dotenv import load_dotenv\n",
    "\n",
    "# Access environment variables\n",
    "load_dotenv()\n",
    "\n",
    "NAME = os.getenv(\"DB_NAME\")\n",
    "USER = os.getenv(\"DB_USER\")\n",
    "PASSWORD = os.getenv(\"DB_PASSWORD\")\n",
    "IP = os.getenv(\"DB_IP\")\n",
    "PORT = os.getenv(\"DB_PORT\")"
   ]
  },
  {
   "cell_type": "code",
   "execution_count": 44,
   "id": "e905aa69-bb34-453f-b4d9-162d77294135",
   "metadata": {},
   "outputs": [],
   "source": [
    "class Database:\n",
    "    _connection = None  # 클래스 변수로 연결 상태 관리\n",
    "\n",
    "    @staticmethod\n",
    "    def get_connection():\n",
    "        if Database._connection is None or not Database._connection.is_connected():\n",
    "            Database._connection = connector.connect(\n",
    "                database = NAME,\n",
    "                user = USER,\n",
    "                password = PASSWORD,\n",
    "                host = IP,\n",
    "                port = PORT\n",
    "            )\n",
    "        return Database._connection"
   ]
  },
  {
   "cell_type": "code",
   "execution_count": 48,
   "id": "aec7eba5-5013-482f-aacb-248c133afe4b",
   "metadata": {},
   "outputs": [],
   "source": [
    "def execute(query):\n",
    "    try:\n",
    "        conn = Database.get_connection()\n",
    "        cursor = conn.cursor()\n",
    "        cursor.execute(query)\n",
    "        rows = cursor.fetchall()\n",
    "        for row in rows:\n",
    "            print(row)\n",
    "        cursor.close()\n",
    "    except connector.Error as e:\n",
    "        print(f\"Error: {e}\")"
   ]
  },
  {
   "cell_type": "code",
   "execution_count": 49,
   "id": "dc16f979-7859-4089-89ce-1e99d8653ed8",
   "metadata": {},
   "outputs": [
    {
     "name": "stdout",
     "output_type": "stream",
     "text": [
      "('DDC_count',)\n",
      "('ISBN_rent_count',)\n",
      "('book',)\n",
      "('recent_rent',)\n",
      "('rent',)\n",
      "('rent_count',)\n"
     ]
    }
   ],
   "source": [
    "execute(\"SHOW TABLES\")"
   ]
  },
  {
   "cell_type": "code",
   "execution_count": null,
   "id": "57e5c59c-d67e-4068-8283-e1b1980864b4",
   "metadata": {},
   "outputs": [],
   "source": []
  }
 ],
 "metadata": {
  "kernelspec": {
   "display_name": "Datathon",
   "language": "python",
   "name": "datathon"
  },
  "language_info": {
   "codemirror_mode": {
    "name": "ipython",
    "version": 3
   },
   "file_extension": ".py",
   "mimetype": "text/x-python",
   "name": "python",
   "nbconvert_exporter": "python",
   "pygments_lexer": "ipython3",
   "version": "3.11.11"
  }
 },
 "nbformat": 4,
 "nbformat_minor": 5
}
