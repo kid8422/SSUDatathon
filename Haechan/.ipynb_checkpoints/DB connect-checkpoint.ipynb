{
 "cells": [
  {
   "cell_type": "code",
   "execution_count": 24,
   "id": "776c5770-6da5-496a-844e-468b7f954baf",
   "metadata": {},
   "outputs": [],
   "source": [
    "import os\n",
    "\n",
    "from mysql import connector\n",
    "from dotenv import load_dotenv\n",
    "\n",
    "# Access environment variables\n",
    "load_dotenv()\n",
    "\n",
    "NAME = os.getenv(\"DB_NAME\")\n",
    "USER = os.getenv(\"DB_USER\")\n",
    "PASSWORD = os.getenv(\"DB_PASSWORD\")\n",
    "IP = os.getenv(\"DB_IP\")\n",
    "PORT = os.getenv(\"DB_PORT\")"
   ]
  },
  {
   "cell_type": "code",
   "execution_count": 26,
   "id": "aec7eba5-5013-482f-aacb-248c133afe4b",
   "metadata": {},
   "outputs": [
    {
     "name": "stdout",
     "output_type": "stream",
     "text": [
      "Database object: <mysql.connector.connection.MySQLConnection object at 0x7f577b7c6390>\n"
     ]
    }
   ],
   "source": [
    "try:\n",
    "    database = connector.connect(\n",
    "        database=NAME,\n",
    "        user=USER,\n",
    "        password=PASSWORD,\n",
    "        host=IP,\n",
    "        port=int(PORT)  # 포트는 정수로 변환\n",
    "    )\n",
    "    print(f\"Database object: {database}\")\n",
    "    database.close()  # 연결 종료\n",
    "except connector.Error as e:\n",
    "    print(f\"Error: {e}\")"
   ]
  },
  {
   "cell_type": "code",
   "execution_count": null,
   "id": "a2a97495-52a9-4356-a099-7f0335595e66",
   "metadata": {},
   "outputs": [],
   "source": []
  }
 ],
 "metadata": {
  "kernelspec": {
   "display_name": "Datathon",
   "language": "python",
   "name": "datathon"
  },
  "language_info": {
   "codemirror_mode": {
    "name": "ipython",
    "version": 3
   },
   "file_extension": ".py",
   "mimetype": "text/x-python",
   "name": "python",
   "nbconvert_exporter": "python",
   "pygments_lexer": "ipython3",
   "version": "3.11.11"
  }
 },
 "nbformat": 4,
 "nbformat_minor": 5
}
