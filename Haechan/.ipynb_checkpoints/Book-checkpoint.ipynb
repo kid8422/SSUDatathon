{
 "cells": [
  {
   "cell_type": "code",
   "execution_count": 10,
   "id": "d1aab85e-1908-48ba-8850-d40eb1a7b4cc",
   "metadata": {},
   "outputs": [],
   "source": [
    "import pandas as pd\n",
    "import numpy as np\n",
    "import re"
   ]
  },
  {
   "cell_type": "code",
   "execution_count": 11,
   "id": "bc0288de-dcc7-431c-8f96-24d670198f22",
   "metadata": {},
   "outputs": [
    {
     "name": "stdout",
     "output_type": "stream",
     "text": [
      " Book.ipynb  'DB connect.ipynb'   Rent.ipynb\n"
     ]
    }
   ],
   "source": [
    "!ls "
   ]
  },
  {
   "cell_type": "code",
   "execution_count": 12,
   "id": "bcb5bac5-b9d1-4078-b973-1df7d9890e79",
   "metadata": {},
   "outputs": [
    {
     "data": {
      "text/html": [
       "<div>\n",
       "<style scoped>\n",
       "    .dataframe tbody tr th:only-of-type {\n",
       "        vertical-align: middle;\n",
       "    }\n",
       "\n",
       "    .dataframe tbody tr th {\n",
       "        vertical-align: top;\n",
       "    }\n",
       "\n",
       "    .dataframe thead th {\n",
       "        text-align: right;\n",
       "    }\n",
       "</style>\n",
       "<table border=\"1\" class=\"dataframe\">\n",
       "  <thead>\n",
       "    <tr style=\"text-align: right;\">\n",
       "      <th></th>\n",
       "      <th>도서ID</th>\n",
       "      <th>등록일자</th>\n",
       "      <th>수서방법</th>\n",
       "      <th>분류코드</th>\n",
       "      <th>ISBN</th>\n",
       "      <th>서명</th>\n",
       "      <th>저자</th>\n",
       "      <th>출판사</th>\n",
       "      <th>출판년도</th>\n",
       "      <th>소장위치</th>\n",
       "    </tr>\n",
       "  </thead>\n",
       "  <tbody>\n",
       "    <tr>\n",
       "      <th>0</th>\n",
       "      <td>SS_270312</td>\n",
       "      <td>2017-09-13</td>\n",
       "      <td>학과신청</td>\n",
       "      <td>194</td>\n",
       "      <td>9782020658706</td>\n",
       "      <td>Le courage de la verite :le gouvernement de so...</td>\n",
       "      <td>Foucault, Michel</td>\n",
       "      <td>Gallimard</td>\n",
       "      <td>2009</td>\n",
       "      <td>4층인문</td>\n",
       "    </tr>\n",
       "    <tr>\n",
       "      <th>1</th>\n",
       "      <td>SS_233793</td>\n",
       "      <td>2008-10-13</td>\n",
       "      <td>수서정보없음</td>\n",
       "      <td>160</td>\n",
       "      <td>9788995605189</td>\n",
       "      <td>김나지움 논리학입문</td>\n",
       "      <td>Hegel, Georg Wilhelm Friedrich</td>\n",
       "      <td>용의숲</td>\n",
       "      <td>2008</td>\n",
       "      <td>보존서고</td>\n",
       "    </tr>\n",
       "    <tr>\n",
       "      <th>2</th>\n",
       "      <td>SS_233788</td>\n",
       "      <td>2008-10-13</td>\n",
       "      <td>수서정보없음</td>\n",
       "      <td>160</td>\n",
       "      <td>9788995605189</td>\n",
       "      <td>김나지움 논리학입문</td>\n",
       "      <td>Hegel, Georg Wilhelm Friedrich</td>\n",
       "      <td>용의숲</td>\n",
       "      <td>2008</td>\n",
       "      <td>4층인문</td>\n",
       "    </tr>\n",
       "  </tbody>\n",
       "</table>\n",
       "</div>"
      ],
      "text/plain": [
       "        도서ID        등록일자    수서방법 분류코드           ISBN  \\\n",
       "0  SS_270312  2017-09-13    학과신청  194  9782020658706   \n",
       "1  SS_233793  2008-10-13  수서정보없음  160  9788995605189   \n",
       "2  SS_233788  2008-10-13  수서정보없음  160  9788995605189   \n",
       "\n",
       "                                                  서명  \\\n",
       "0  Le courage de la verite :le gouvernement de so...   \n",
       "1                                         김나지움 논리학입문   \n",
       "2                                         김나지움 논리학입문   \n",
       "\n",
       "                               저자        출판사  출판년도  소장위치  \n",
       "0                Foucault, Michel  Gallimard  2009  4층인문  \n",
       "1  Hegel, Georg Wilhelm Friedrich        용의숲  2008  보존서고  \n",
       "2  Hegel, Georg Wilhelm Friedrich        용의숲  2008  4층인문  "
      ]
     },
     "execution_count": 12,
     "metadata": {},
     "output_type": "execute_result"
    }
   ],
   "source": [
    "# 단행본(도서)정보.txt\n",
    "book_df = pd.read_csv('../Data/단행본(도서)정보.txt', sep=',', encoding='EUC-KR')\n",
    "book_df[:3]"
   ]
  },
  {
   "cell_type": "code",
   "execution_count": 13,
   "id": "1c5909b7-3218-45d6-949e-83dea509135e",
   "metadata": {},
   "outputs": [
    {
     "name": "stdout",
     "output_type": "stream",
     "text": [
      "<class 'pandas.core.frame.DataFrame'>\n",
      "RangeIndex: 301151 entries, 0 to 301150\n",
      "Data columns (total 10 columns):\n",
      " #   Column  Non-Null Count   Dtype \n",
      "---  ------  --------------   ----- \n",
      " 0   도서ID    301151 non-null  object\n",
      " 1   등록일자    301151 non-null  object\n",
      " 2   수서방법    301151 non-null  object\n",
      " 3   분류코드    301151 non-null  object\n",
      " 4   ISBN    301151 non-null  object\n",
      " 5   서명      301151 non-null  object\n",
      " 6   저자      291524 non-null  object\n",
      " 7   출판사     300948 non-null  object\n",
      " 8   출판년도    300966 non-null  object\n",
      " 9   소장위치    301151 non-null  object\n",
      "dtypes: object(10)\n",
      "memory usage: 23.0+ MB\n"
     ]
    }
   ],
   "source": [
    "book_df.info()"
   ]
  },
  {
   "cell_type": "code",
   "execution_count": 14,
   "id": "cfe51635-d16a-4308-b6da-34e66e6faadf",
   "metadata": {},
   "outputs": [
    {
     "data": {
      "text/plain": [
       "도서ID    0.000000\n",
       "등록일자    0.000000\n",
       "수서방법    0.000000\n",
       "분류코드    0.000000\n",
       "ISBN    0.000000\n",
       "서명      0.000000\n",
       "저자      0.031967\n",
       "출판사     0.000674\n",
       "출판년도    0.000614\n",
       "소장위치    0.000000\n",
       "dtype: float64"
      ]
     },
     "execution_count": 14,
     "metadata": {},
     "output_type": "execute_result"
    }
   ],
   "source": [
    "book_df.isnull().sum() / len(book_df)"
   ]
  },
  {
   "cell_type": "code",
   "execution_count": 15,
   "id": "51ff60dd-f242-4022-be13-34804b4369b1",
   "metadata": {},
   "outputs": [],
   "source": [
    "# 전체 전처리\n",
    "pre_df = book_df.copy()"
   ]
  },
  {
   "cell_type": "code",
   "execution_count": 16,
   "id": "722e8c0a-813f-46f2-94df-49d2185db448",
   "metadata": {},
   "outputs": [],
   "source": [
    "# 분류코드 전처리\n",
    "pre_df = pre_df[pre_df['분류코드'] != '0198129009 (v.2)']\n",
    "pre_df['분류코드'] = pre_df['분류코드'].str.replace(',', '.')\n",
    "pre_df['분류코드'] = pre_df['분류코드'].str.replace('..', '.')\n",
    "# 숫자와 소수점만 남기기\n",
    "pre_df['분류코드'] = pre_df['분류코드'].str.extract(r'([\\d.]+)')\n",
    "pre_df['분류코드'] = pre_df['분류코드'].str.rstrip('.')\n",
    "#pre_df['분류코드'] = pre_df['분류코드'].astype(float)"
   ]
  },
  {
   "cell_type": "code",
   "execution_count": 17,
   "id": "a2161138-8992-4f33-bccf-235584ab697c",
   "metadata": {},
   "outputs": [],
   "source": [
    "# 1. 모든 4자리 연도 추출\n",
    "pre_df['출판년도'] = pre_df['출판년도'].apply(lambda x: re.findall(r'\\d{4}', str(x)))\n",
    "\n",
    "# 2. 뒤에서부터 2024보다 작은 값 선택\n",
    "def extract_year(years):\n",
    "    # 뒤에서부터 작은 값 찾기\n",
    "    for year in reversed(years):  # 뒤에서부터 탐색\n",
    "        if int(year) < 2025:     # 조건 만족 시 반환\n",
    "            return year\n",
    "    return None  # 조건에 맞는 값이 없으면 None 반환\n",
    "\n",
    "pre_df['출판년도'] = pre_df['출판년도'].apply(extract_year)"
   ]
  },
  {
   "cell_type": "code",
   "execution_count": 18,
   "id": "4ffb47a8-e060-418f-8521-dc796b08e4fb",
   "metadata": {},
   "outputs": [
    {
     "data": {
      "text/plain": [
       "도서ID    0.000000\n",
       "등록일자    0.000000\n",
       "수서방법    0.000000\n",
       "분류코드    0.000000\n",
       "ISBN    0.000000\n",
       "서명      0.000000\n",
       "저자      0.031968\n",
       "출판사     0.000674\n",
       "출판년도    0.006090\n",
       "소장위치    0.000000\n",
       "dtype: float64"
      ]
     },
     "execution_count": 18,
     "metadata": {},
     "output_type": "execute_result"
    }
   ],
   "source": [
    "pre_df.isnull().sum() / len(pre_df)"
   ]
  },
  {
   "cell_type": "code",
   "execution_count": 19,
   "id": "cde88872-adc2-49b3-87c0-177e4bb4b12e",
   "metadata": {},
   "outputs": [
    {
     "name": "stdout",
     "output_type": "stream",
     "text": [
      "             도서ID        등록일자    수서방법       분류코드           ISBN  \\\n",
      "457     SS_192863  1995-04-20  수서정보없음     001.64              0   \n",
      "482     SS_138640  1973-03-02  수서정보없음        428  9780070458017   \n",
      "515     SS_217712  1995-01-23  수서정보없음        016              0   \n",
      "600     SS_300618  2013-12-24    학과신청    296.834  9781782380078   \n",
      "742     SS_261919  1998-06-19  수서정보없음      937.5              0   \n",
      "...           ...         ...     ...        ...            ...   \n",
      "300615  SS_141656  2024-09-25   이용자희망      155.2  9781032834351   \n",
      "300628  SS_141657  2024-09-25   이용자희망      198.5  9781032547107   \n",
      "300642  SS_141659  2024-09-25   이용자희망        809  9781032191690   \n",
      "300654  SS_141662  2024-09-25   이용자희망      701.3  9781032385914   \n",
      "300695  SS_141665  2024-09-25   이용자희망  973.46092  9780813347738   \n",
      "\n",
      "                                                       서명  \\\n",
      "457     SPSS :online version 7.0 6000 release 8.0 6000...   \n",
      "482                                     English for today   \n",
      "515                                                  學術總覽   \n",
      "600     The legacy of liberal Judaism :Ernst Cassirer ...   \n",
      "742                     The art of etruria and early rome   \n",
      "...                                                   ...   \n",
      "300615  The concept of the individual in psychoanalysi...   \n",
      "300628  What is the sociology of philosophy? : studies...   \n",
      "300642    The Routledge companion to migration literature   \n",
      "300654  Utopian and dystopian explorations of pandemic...   \n",
      "300695                     Sally Hemings : given her time   \n",
      "\n",
      "                            저자                       출판사  출판년도  소장위치  \n",
      "457                        NaN               McGraw-Hill  None  보존서고  \n",
      "482          Slager, William R               McGraw-Hill  None  보존서고  \n",
      "515                        학술원                       학술원  None  보존서고  \n",
      "600              Curthoys, Ned                       NaN  None  4층인문  \n",
      "742               G.A.Mansuell  Greystone Press new york  None  보존서고  \n",
      "...                        ...                       ...   ...   ...  \n",
      "300615           Moncayo, Raul                 Routledge  None  4층인문  \n",
      "300628  Heidegren, Carl-Go?ran                 Routledge  None  4층인문  \n",
      "300642             Adair, Gigi                 Routledge  None  4층인문  \n",
      "300654        Alberro, Heather                 Routledge  None  4층인문  \n",
      "300695           Fought, Leigh                 Routledge  None  4층인문  \n",
      "\n",
      "[1834 rows x 10 columns]\n"
     ]
    }
   ],
   "source": [
    "# '출판년도'가 결측값이 아닌 행만 필터링\n",
    "filtered_df = pre_df[pre_df['출판년도'].isnull()]  # ~ 연산자는 NOT 의미\n",
    "\n",
    "# 결과 출력\n",
    "print(filtered_df)"
   ]
  },
  {
   "cell_type": "code",
   "execution_count": 20,
   "id": "4e330ef1-7c35-42a6-8edc-61e076c75314",
   "metadata": {},
   "outputs": [],
   "source": [
    "pre_df = pre_df.dropna(subset=['출판년도'])"
   ]
  },
  {
   "cell_type": "code",
   "execution_count": 21,
   "id": "c8c339ac-2837-43cf-b1f1-7ffb56b2b28e",
   "metadata": {},
   "outputs": [],
   "source": [
    "#pre_df['출판년도'] = pre_df['출판년도'].astype(int)"
   ]
  },
  {
   "cell_type": "code",
   "execution_count": 22,
   "id": "e451f067-8e42-4bc0-a99b-572504b1c564",
   "metadata": {},
   "outputs": [
    {
     "name": "stdout",
     "output_type": "stream",
     "text": [
      "<class 'pandas.core.frame.DataFrame'>\n",
      "Index: 299315 entries, 0 to 301150\n",
      "Data columns (total 10 columns):\n",
      " #   Column  Non-Null Count   Dtype \n",
      "---  ------  --------------   ----- \n",
      " 0   도서ID    299315 non-null  object\n",
      " 1   등록일자    299315 non-null  object\n",
      " 2   수서방법    299315 non-null  object\n",
      " 3   분류코드    299315 non-null  object\n",
      " 4   ISBN    299315 non-null  object\n",
      " 5   서명      299315 non-null  object\n",
      " 6   저자      290158 non-null  object\n",
      " 7   출판사     299268 non-null  object\n",
      " 8   출판년도    299315 non-null  object\n",
      " 9   소장위치    299315 non-null  object\n",
      "dtypes: object(10)\n",
      "memory usage: 25.1+ MB\n"
     ]
    }
   ],
   "source": [
    "pre_df.info()"
   ]
  },
  {
   "cell_type": "code",
   "execution_count": 23,
   "id": "d47f5dc9-16a7-440e-832d-fdc58ea417b9",
   "metadata": {
    "scrolled": true
   },
   "outputs": [],
   "source": [
    "# ISBN 전처리\n",
    "# 숫자로 변환할 수 없는 값 처리\n",
    "def clean_isbn(isbn):\n",
    "    isbn = re.sub(r'\\D', '', isbn)  # 숫자가 아닌 모든 문자 제거\n",
    "    return int(isbn) if isbn.isdigit() else None\n",
    "\n",
    "# ISBN 열 전처리\n",
    "pre_df['ISBN'] = pre_df['ISBN'].apply(clean_isbn)\n",
    "\n",
    "# 결측치 처리 (선택적으로 제거하거나 다른 값으로 대체)\n",
    "pre_df = pre_df.dropna(subset=['ISBN'])  # 결측치 제거"
   ]
  },
  {
   "cell_type": "code",
   "execution_count": 24,
   "id": "2f76df07-1cee-4bfa-953c-282aeef07612",
   "metadata": {},
   "outputs": [],
   "source": [
    "pre_df['ISBN'] = pre_df['ISBN'].astype(object)"
   ]
  },
  {
   "cell_type": "code",
   "execution_count": 25,
   "id": "b73765cb-306f-49e7-b44b-4dfc95ace3d2",
   "metadata": {},
   "outputs": [
    {
     "name": "stdout",
     "output_type": "stream",
     "text": [
      "<class 'pandas.core.frame.DataFrame'>\n",
      "Index: 299315 entries, 0 to 301150\n",
      "Data columns (total 10 columns):\n",
      " #   Column  Non-Null Count   Dtype \n",
      "---  ------  --------------   ----- \n",
      " 0   도서ID    299315 non-null  object\n",
      " 1   등록일자    299315 non-null  object\n",
      " 2   수서방법    299315 non-null  object\n",
      " 3   분류코드    299315 non-null  object\n",
      " 4   ISBN    299315 non-null  object\n",
      " 5   서명      299315 non-null  object\n",
      " 6   저자      290158 non-null  object\n",
      " 7   출판사     299268 non-null  object\n",
      " 8   출판년도    299315 non-null  object\n",
      " 9   소장위치    299315 non-null  object\n",
      "dtypes: object(10)\n",
      "memory usage: 25.1+ MB\n"
     ]
    }
   ],
   "source": [
    "pre_df.info()"
   ]
  },
  {
   "cell_type": "code",
   "execution_count": 26,
   "id": "919d70f1-222a-4181-8c6f-9b138ab93522",
   "metadata": {},
   "outputs": [],
   "source": [
    "pre_df['출판사'] = pre_df['출판사'].fillna('출판사 없음')\n",
    "pre_df['저자'] = pre_df['저자'].fillna('저자 없음')"
   ]
  },
  {
   "cell_type": "code",
   "execution_count": 27,
   "id": "f520169e-a257-4e57-8b82-b912dd93b548",
   "metadata": {},
   "outputs": [
    {
     "name": "stdout",
     "output_type": "stream",
     "text": [
      "Empty DataFrame\n",
      "Columns: [도서ID, 등록일자, 수서방법, 분류코드, ISBN, 서명, 저자, 출판사, 출판년도, 소장위치]\n",
      "Index: []\n"
     ]
    }
   ],
   "source": [
    "# '출판년도'가 결측값이 아닌 행만 필터링\n",
    "filtered_df = pre_df[pre_df['출판사'].isnull()]\n",
    "\n",
    "# 결과 출력\n",
    "print(filtered_df)"
   ]
  },
  {
   "cell_type": "code",
   "execution_count": 28,
   "id": "a33b3cc1-73ab-4b65-bff9-c733e142ceae",
   "metadata": {},
   "outputs": [
    {
     "name": "stdout",
     "output_type": "stream",
     "text": [
      "<class 'pandas.core.frame.DataFrame'>\n",
      "Index: 299315 entries, 0 to 301150\n",
      "Data columns (total 10 columns):\n",
      " #   Column  Non-Null Count   Dtype \n",
      "---  ------  --------------   ----- \n",
      " 0   도서ID    299315 non-null  object\n",
      " 1   등록일자    299315 non-null  object\n",
      " 2   수서방법    299315 non-null  object\n",
      " 3   분류코드    299315 non-null  object\n",
      " 4   ISBN    299315 non-null  object\n",
      " 5   서명      299315 non-null  object\n",
      " 6   저자      299315 non-null  object\n",
      " 7   출판사     299315 non-null  object\n",
      " 8   출판년도    299315 non-null  object\n",
      " 9   소장위치    299315 non-null  object\n",
      "dtypes: object(10)\n",
      "memory usage: 25.1+ MB\n"
     ]
    }
   ],
   "source": [
    "pre_df.info()"
   ]
  },
  {
   "cell_type": "code",
   "execution_count": 29,
   "id": "937603e3-07a5-4ef6-b4fc-76c3ed2991a5",
   "metadata": {},
   "outputs": [
    {
     "data": {
      "text/plain": [
       "도서ID    0.0\n",
       "등록일자    0.0\n",
       "수서방법    0.0\n",
       "분류코드    0.0\n",
       "ISBN    0.0\n",
       "서명      0.0\n",
       "저자      0.0\n",
       "출판사     0.0\n",
       "출판년도    0.0\n",
       "소장위치    0.0\n",
       "dtype: float64"
      ]
     },
     "execution_count": 29,
     "metadata": {},
     "output_type": "execute_result"
    }
   ],
   "source": [
    "pre_df.isnull().sum() / len(pre_df)"
   ]
  },
  {
   "cell_type": "code",
   "execution_count": 54,
   "id": "32d46bf8-0ca9-4f2f-b119-724c77fbd3bf",
   "metadata": {},
   "outputs": [],
   "source": [
    "import os\n",
    "\n",
    "from mysql import connector\n",
    "from dotenv import load_dotenv\n",
    "\n",
    "# Access environment variables\n",
    "load_dotenv()\n",
    "\n",
    "NAME = os.getenv(\"DB_NAME\")\n",
    "USER = os.getenv(\"DB_USER\")\n",
    "PASSWORD = os.getenv(\"DB_PASSWORD\")\n",
    "IP = os.getenv(\"DB_IP\")\n",
    "PORT = os.getenv(\"DB_PORT\")"
   ]
  },
  {
   "cell_type": "code",
   "execution_count": 55,
   "id": "fe1f8d73-50c3-4cf9-b252-17dedd5d53f2",
   "metadata": {},
   "outputs": [],
   "source": [
    "class Database:\n",
    "    _connection = None  # 클래스 변수로 연결 상태 관리\n",
    "\n",
    "    @staticmethod\n",
    "    def get_connection():\n",
    "        if Database._connection is None or not Database._connection.is_connected():\n",
    "            Database._connection = connector.connect(\n",
    "                database = NAME,\n",
    "                user = USER,\n",
    "                password = PASSWORD,\n",
    "                host = IP,\n",
    "                port = PORT\n",
    "            )\n",
    "        return Database._connection"
   ]
  },
  {
   "cell_type": "code",
   "execution_count": 56,
   "id": "20b5ff8b-2aaa-43f2-8e38-0e3be444542d",
   "metadata": {},
   "outputs": [],
   "source": [
    "def execute(query, values=None):\n",
    "    try:\n",
    "        conn = Database.get_connection()\n",
    "        cursor = conn.cursor()\n",
    "\n",
    "        # values가 있으면 쿼리와 함께 전달\n",
    "        if values:\n",
    "            cursor.execute(query, values)\n",
    "        else:\n",
    "            cursor.execute(query)\n",
    "\n",
    "        # 쿼리 유형 판별\n",
    "        if query.strip().upper().startswith(\"SELECT\"):\n",
    "            rows = cursor.fetchall()  # SELECT인 경우에만 fetchall() 호출\n",
    "            for row in rows:\n",
    "                print(row)\n",
    "\n",
    "        conn.commit() \n",
    "        cursor.close()\n",
    "        \n",
    "    except connector.Error as e:\n",
    "        print(f\"Error: {e}\")"
   ]
  },
  {
   "cell_type": "code",
   "execution_count": 57,
   "id": "1325c97f-95c2-4749-ae34-c92f40b87ddf",
   "metadata": {},
   "outputs": [],
   "source": [
    "def batch_insert(query, values_list, batch_size=1000):\n",
    "    \"\"\"\n",
    "    Batch Insert with transaction optimization\n",
    "    :param query: SQL query\n",
    "    :param values_list: List of values to insert\n",
    "    :param batch_size: Number of rows per batch\n",
    "    \"\"\"\n",
    "    try:\n",
    "        conn = Database.get_connection()\n",
    "        cursor = conn.cursor()\n",
    "\n",
    "        # 트랜잭션 시작\n",
    "        total_rows = len(values_list)\n",
    "        for i in range(0, total_rows, batch_size):\n",
    "            batch = values_list[i : i + batch_size]\n",
    "            cursor.executemany(query, batch)  # Batch Insert\n",
    "            conn.commit()  # Batch마다 커밋 (너무 자주 커밋하지 않음)\n",
    "\n",
    "        cursor.close()\n",
    "    except connector.Error as e:\n",
    "        print(f\"Error: {e}\")\n",
    "        conn.rollback()  # 오류 발생 시 롤백\n",
    "\n",
    "\n",
    "# SQL 쿼리\n",
    "query = \"\"\"\n",
    "INSERT INTO book \n",
    "(ID, registration, get_course, DDC, ISBN, title, author, publisher, publication_year, location) \n",
    "VALUES (%s, %s, %s, %s, %s, %s, %s, %s, %s, %s)\n",
    "\"\"\"\n",
    "\n",
    "# 데이터 준비\n",
    "values_list = [\n",
    "    (\n",
    "        pre_df.iloc[i, 0], pre_df.iloc[i, 1], pre_df.iloc[i, 2], pre_df.iloc[i, 3],\n",
    "        pre_df.iloc[i, 4], pre_df.iloc[i, 5], pre_df.iloc[i, 6], pre_df.iloc[i, 7],\n",
    "        pre_df.iloc[i, 8], pre_df.iloc[i, 9]\n",
    "    )\n",
    "    for i in range(len(pre_df))\n",
    "]\n",
    "\n",
    "# Batch Insert 실행\n",
    "batch_insert(query, values_list, batch_size=1000)\n"
   ]
  },
  {
   "cell_type": "code",
   "execution_count": null,
   "id": "5d13f239-372b-414f-ad09-89919cb3efbb",
   "metadata": {},
   "outputs": [],
   "source": []
  }
 ],
 "metadata": {
  "kernelspec": {
   "display_name": "Datathon",
   "language": "python",
   "name": "datathon"
  },
  "language_info": {
   "codemirror_mode": {
    "name": "ipython",
    "version": 3
   },
   "file_extension": ".py",
   "mimetype": "text/x-python",
   "name": "python",
   "nbconvert_exporter": "python",
   "pygments_lexer": "ipython3",
   "version": "3.11.11"
  }
 },
 "nbformat": 4,
 "nbformat_minor": 5
}
