{
 "cells": [
  {
   "cell_type": "markdown",
   "id": "b62ea474-b338-47db-a81e-6f80e2afff64",
   "metadata": {},
   "source": [
    "# 함수 선언\n",
    "\n",
    "하나의 함수로 만들어 연도 범위 지정하고 데이터 반환 받기"
   ]
  },
  {
   "cell_type": "code",
   "execution_count": 1,
   "id": "1cfda97d-344f-472c-896b-25baa0ec7e59",
   "metadata": {},
   "outputs": [],
   "source": [
    "import os\n",
    "from mysql import connector\n",
    "from dotenv import load_dotenv\n",
    "import pandas as pd\n",
    "import datetime"
   ]
  },
  {
   "cell_type": "code",
   "execution_count": 2,
   "id": "7f0935b2-343a-4064-b823-5094e99f05b0",
   "metadata": {
    "jupyter": {
     "source_hidden": true
    }
   },
   "outputs": [],
   "source": [
    "def load_data(start_year, end_year):\n",
    "    # 환경변수 로드\n",
    "    load_dotenv()\n",
    "    \n",
    "    NAME = os.getenv(\"DB_NAME\")\n",
    "    USER = os.getenv(\"DB_USER\")\n",
    "    PASSWORD = os.getenv(\"DB_PASSWORD\")\n",
    "    IP = os.getenv(\"DB_IP\")\n",
    "    PORT = os.getenv(\"DB_PORT\")\n",
    "    \n",
    "    class Database:\n",
    "        _connection = None  # 클래스 변수로 연결 상태 관리\n",
    "    \n",
    "        @staticmethod\n",
    "        def get_connection():\n",
    "            if Database._connection is None or not Database._connection.is_connected():\n",
    "                Database._connection = connector.connect(\n",
    "                    database = NAME,\n",
    "                    user = USER,\n",
    "                    password = PASSWORD,\n",
    "                    host = IP,\n",
    "                    port = PORT\n",
    "                )\n",
    "            return Database._connection\n",
    "    \n",
    "    try:\n",
    "        conn = Database.get_connection()\n",
    "        cursor = conn.cursor()\n",
    "        years_range = range(start_year, end_year + 1)\n",
    "        rc_sum_str = \" + \".join([f\"SUM(rc.`{year}`)\" for year in years_range])\n",
    "        irc_sum_str = \" + \".join([f\"SUM(irc.`{year}`)\" for year in years_range])\n",
    "    \n",
    "        cursor.execute(f\"\"\"\n",
    "            SELECT \n",
    "                book.ID,\n",
    "                registration_year,\n",
    "                registration_month,\n",
    "                get_course,\n",
    "                DDC,\n",
    "                title,\n",
    "                publication_year,\n",
    "                location,\n",
    "                duration,\n",
    "                COALESCE({rc_sum_str}, 0) AS total_rent,\n",
    "                COALESCE({irc_sum_str}, 0) AS rent_count,\n",
    "                ID_count\n",
    "            FROM book\n",
    "            LEFT JOIN recent_rent       ON book.ID = recent_rent.ID\n",
    "            LEFT JOIN rent_count AS rc        ON book.ID = rc.ID\n",
    "            LEFT JOIN ISBN_rent_count AS irc   ON book.ISBN = irc.ISBN\n",
    "            GROUP BY book.ID, registration_year, registration_month,\n",
    "                     get_course, DDC, publication_year, location, duration\n",
    "            ORDER BY book.ID\n",
    "        \"\"\")\n",
    "        rows_base = cursor.fetchall()\n",
    "        cursor.close()\n",
    "    \n",
    "    except connector.Error as e:\n",
    "        print(f\"Error: {e}\")\n",
    "    \n",
    "    df = pd.DataFrame(rows_base, columns=[\n",
    "            'ID', '등록연도', '등록월', '수서방법',\n",
    "            '분류코드', '제목', '출판연도', '소장위치', '최근대출',\n",
    "            '총 대출 횟수', 'rent_count', 'book_count'\n",
    "        ])\n",
    "\n",
    "    try:\n",
    "        conn = Database.get_connection()\n",
    "        cursor = conn.cursor()\n",
    "        years_range = range(start_year, end_year + 1)\n",
    "        sum_str = \" + \".join([f\"SUM(`{year}`)\" for year in years_range])\n",
    "        cursor.execute(f\"SELECT title, ID_count, COALESCE({sum_str}, 0) AS rent_count FROM None_ISBN_rent_count GROUP BY title;\")\n",
    "        rows = cursor.fetchall()\n",
    "        cursor.close()\n",
    "    except connector.Error as e:\n",
    "        print(f\"Error: {e}\")\n",
    "    \n",
    "    None_ISBN_df = pd.DataFrame(rows, columns=['제목', 'book_count', 'rent_count'])\n",
    "    \n",
    "    None_ISBN_df = None_ISBN_df.astype(object)\n",
    "    None_ISBN_df['rent_count'] = None_ISBN_df['rent_count'].astype(float)\n",
    "    None_ISBN_df['book_count'] = None_ISBN_df['book_count'].astype(float)\n",
    "\n",
    "    df_merged = pd.merge(df, None_ISBN_df, on='제목', how='left')\n",
    "    df_merged['rent_count_x'] = df_merged['rent_count_x'].fillna(df_merged['rent_count_y'])\n",
    "    df_merged['book_count_x'] = df_merged['book_count_x'].fillna(df_merged['book_count_y'])\n",
    "    df_merged.drop('rent_count_y', axis=1, inplace=True)\n",
    "    df_merged.drop('book_count_y', axis=1, inplace=True)\n",
    "    df_merged.rename(columns={'rent_count_x': 'rent_count', 'book_count_x': 'book_count'}, inplace=True)\n",
    "    df_merged.drop(columns=['제목'], inplace=True)\n",
    "    df_merged['ID'] = df_merged['ID'].str.split('_').str[-1].astype(int)\n",
    "    df_merged['수서방법'] = df_merged['수서방법'].astype('category')\n",
    "    df_merged['분류코드'] = df_merged['분류코드'].astype(float)\n",
    "    df_merged['출판연도'] = df_merged['출판연도'].astype(int)\n",
    "    df_merged['소장위치'] = df_merged['소장위치'].astype('category')\n",
    "    df_merged['최근대출'] = df_merged['최근대출'].fillna(7305).astype(int)\n",
    "    df_merged['rent_count'] = df_merged['rent_count'].fillna(0).astype(int)\n",
    "    df_merged['book_count'] = df_merged['book_count'].fillna(0).astype(int)\n",
    "    df_merged['총 대출 횟수'] = df_merged['총 대출 횟수'].astype(int)\n",
    "    df_onehot = pd.get_dummies(df_merged)\n",
    "\n",
    "    end_date_str = \"2024-10-31\"\n",
    "    start_date = datetime.date(start_year, 1, 1)           # 2019-01-01\n",
    "    year_, month_, day_ = map(int, end_date_str.split('-'))  # 2024, 10, 31\n",
    "    end_date = datetime.date(year_, month_, day_)\n",
    "    diff_days = (end_date - start_date).days  # 2019-01-01 ~ 2024-10-31까지 일수\n",
    "    df_onehot.loc[df_onehot['최근대출'] > diff_days, '최근대출'] = diff_days\n",
    "    \n",
    "    y_data = df_onehot['rent_count'] / df_onehot['book_count']\n",
    "    y_data = y_data.fillna(0)\n",
    "    df_onehot.drop(columns=['rent_count', 'book_count'], inplace=True)\n",
    "    date_series = pd.to_datetime({\n",
    "        \"year\":  df_onehot[\"등록연도\"],\n",
    "        \"month\": df_onehot[\"등록월\"],\n",
    "        \"day\":   1\n",
    "    })\n",
    "    end_date = pd.to_datetime(\"2024-10-31\")\n",
    "    df_onehot[\"reg_diff_days\"] = (end_date - date_series).dt.days\n",
    "    df_onehot[\"최근대출\"] = df_onehot[\"최근대출\"].fillna(df_onehot[\"reg_diff_days\"])\n",
    "    df_onehot.loc[df_onehot[\"최근대출\"] > df_onehot[\"reg_diff_days\"], \"최근대출\"] = df_onehot[\"reg_diff_days\"]\n",
    "    df_onehot.drop(\"reg_diff_days\", axis=1, inplace=True)\n",
    "    df_onehot[\"최근대출\"] = df_onehot[\"최근대출\"].astype(int)\n",
    "\n",
    "    return df_onehot, y_data"
   ]
  },
  {
   "cell_type": "markdown",
   "id": "67ac1e22-26d7-4fad-8d4e-25564337b517",
   "metadata": {},
   "source": [
    "# XGBoost"
   ]
  },
  {
   "cell_type": "code",
   "execution_count": 24,
   "id": "ebeb49fd-e3a9-41ba-bcf8-2b8366ed467a",
   "metadata": {},
   "outputs": [],
   "source": [
    "# 모듈 불러오기\n",
    "import xgboost as xgb\n",
    "from sklearn.model_selection import train_test_split\n",
    "from sklearn.metrics import mean_squared_error, r2_score\n",
    "import numpy as np"
   ]
  },
  {
   "cell_type": "code",
   "execution_count": 29,
   "id": "2fda8b2d-50d7-40c2-9b95-13bd9e2420e4",
   "metadata": {},
   "outputs": [],
   "source": [
    "def xgb(x, y, year):\n",
    "    import xgboost as xgb\n",
    "    # 데이터 분리\n",
    "    X_train, X_test, y_train, y_test = train_test_split(x, y, test_size=0.3, random_state=42)\n",
    "\n",
    "    # 모델 생성\n",
    "    xgb_reg = xgb.XGBRegressor(\n",
    "        n_estimators = 500,   # 트리 개수\n",
    "        learning_rate = 0.05,  # 학습률\n",
    "        max_depth = 5,        # 트리 최대 깊이\n",
    "        subsample = 0.8,\n",
    "        colsample_bytree=0.8,\n",
    "        random_state = 42\n",
    "    )\n",
    "    xgb_reg.fit(X_train, y_train)\n",
    "    y_pred = xgb_reg.predict(X_test)\n",
    "    rmse = np.sqrt(mean_squared_error(y_test, y_pred))\n",
    "    r2 = r2_score(y_test, y_pred)\n",
    "    \n",
    "    print(f\"RMSE: {rmse:.4f}\")\n",
    "    print(f\"R^2 : {r2:.4f}\")\n",
    "    xgb_reg.save_model(f\"xgb_model_{year}.json\")"
   ]
  },
  {
   "cell_type": "markdown",
   "id": "6f195f81-6b2f-4967-9796-dccf5fca584e",
   "metadata": {},
   "source": [
    "# 데이터 불러오기"
   ]
  },
  {
   "cell_type": "code",
   "execution_count": 12,
   "id": "b8767274-6efe-4f45-895b-649a3ca65b9a",
   "metadata": {},
   "outputs": [
    {
     "name": "stdout",
     "output_type": "stream",
     "text": [
      "2004 complete\n",
      "2005 complete\n",
      "2006 complete\n",
      "2007 complete\n",
      "2008 complete\n"
     ]
    }
   ],
   "source": [
    "x_list = []\n",
    "y_list = []\n",
    "for year in range(2004, 2009):\n",
    "    x, y = load_data(year, 2024)\n",
    "    x_list.append(x)\n",
    "    y_list.append(y)\n",
    "    print(f'{year} complete')"
   ]
  },
  {
   "cell_type": "code",
   "execution_count": 15,
   "id": "d2b29571-b8d5-4a07-a052-8a1ba021c6d2",
   "metadata": {},
   "outputs": [
    {
     "name": "stdout",
     "output_type": "stream",
     "text": [
      "2009 complete\n",
      "2010 complete\n",
      "2011 complete\n",
      "2012 complete\n",
      "2013 complete\n"
     ]
    }
   ],
   "source": [
    "for year in range(2009, 2014):\n",
    "    x, y = load_data(year, 2024)\n",
    "    x_list.append(x)\n",
    "    y_list.append(y)\n",
    "    print(f'{year} complete')"
   ]
  },
  {
   "cell_type": "code",
   "execution_count": 17,
   "id": "a33de2d4-ccbe-4a8e-bffd-8a6534948c8c",
   "metadata": {},
   "outputs": [
    {
     "name": "stdout",
     "output_type": "stream",
     "text": [
      "2014 complete\n",
      "2015 complete\n",
      "2016 complete\n",
      "2017 complete\n",
      "2018 complete\n"
     ]
    }
   ],
   "source": [
    "for year in range(2014, 2019):\n",
    "    x, y = load_data(year, 2024)\n",
    "    x_list.append(x)\n",
    "    y_list.append(y)\n",
    "    print(f'{year} complete')"
   ]
  },
  {
   "cell_type": "code",
   "execution_count": 19,
   "id": "5bdb1805-81fe-46cf-95f2-205cb0b084d7",
   "metadata": {},
   "outputs": [
    {
     "name": "stdout",
     "output_type": "stream",
     "text": [
      "2019 complete\n",
      "2020 complete\n",
      "2021 complete\n",
      "2022 complete\n",
      "2023 complete\n"
     ]
    }
   ],
   "source": [
    "for year in range(2019, 2024):\n",
    "    x, y = load_data(year, 2024)\n",
    "    x_list.append(x)\n",
    "    y_list.append(y)\n",
    "    print(f'{year} complete')"
   ]
  },
  {
   "cell_type": "code",
   "execution_count": 20,
   "id": "efb9bc04-1a2d-423f-beeb-7ff9f738bf95",
   "metadata": {},
   "outputs": [
    {
     "data": {
      "text/plain": [
       "20"
      ]
     },
     "execution_count": 20,
     "metadata": {},
     "output_type": "execute_result"
    }
   ],
   "source": [
    "len(x_list)"
   ]
  },
  {
   "cell_type": "code",
   "execution_count": 30,
   "id": "23d57175-8896-4f1e-a599-0bb80dc2c031",
   "metadata": {},
   "outputs": [
    {
     "name": "stdout",
     "output_type": "stream",
     "text": [
      "RMSE: 2.3589\n",
      "R^2 : 0.8588\n",
      "RMSE: 2.3475\n",
      "R^2 : 0.8583\n",
      "RMSE: 2.2557\n",
      "R^2 : 0.8606\n",
      "RMSE: 2.1495\n",
      "R^2 : 0.8621\n",
      "RMSE: 2.0351\n",
      "R^2 : 0.8629\n",
      "RMSE: 1.9151\n",
      "R^2 : 0.8626\n",
      "RMSE: 1.7988\n",
      "R^2 : 0.8609\n",
      "RMSE: 1.6867\n",
      "R^2 : 0.8582\n",
      "RMSE: 1.5731\n",
      "R^2 : 0.8538\n",
      "RMSE: 1.4453\n",
      "R^2 : 0.8502\n",
      "RMSE: 1.2982\n",
      "R^2 : 0.8473\n",
      "RMSE: 1.1454\n",
      "R^2 : 0.8450\n",
      "RMSE: 1.0067\n",
      "R^2 : 0.8392\n",
      "RMSE: 0.8869\n",
      "R^2 : 0.8332\n",
      "RMSE: 0.7521\n",
      "R^2 : 0.8250\n",
      "RMSE: 0.6379\n",
      "R^2 : 0.8199\n",
      "RMSE: 0.5395\n",
      "R^2 : 0.8035\n",
      "RMSE: 0.4659\n",
      "R^2 : 0.7893\n",
      "RMSE: 0.3838\n",
      "R^2 : 0.7888\n",
      "RMSE: 0.2909\n",
      "R^2 : 0.7784\n"
     ]
    }
   ],
   "source": [
    "for i in range(2004, 2024):\n",
    "    xgb(x_list[i-2004], y_list[i-2004], i)    "
   ]
  },
  {
   "cell_type": "code",
   "execution_count": 33,
   "id": "ae4c3b5f-5bce-4a9b-8bae-0ae220e5708c",
   "metadata": {},
   "outputs": [
    {
     "name": "stdout",
     "output_type": "stream",
     "text": [
      "RMSE: 2.1591\n",
      "R^2 : 0.8677\n"
     ]
    },
    {
     "name": "stderr",
     "output_type": "stream",
     "text": [
      "\n",
      "KeyboardInterrupt\n",
      "\n"
     ]
    }
   ],
   "source": [
    "for i in range(2004, 2024, 5):\n",
    "    merge_x = pd.concat([x_list[i-2004], x_list[i-2003], x_list[i-2002], x_list[i-2001], x_list[i-2000]], axis = 0, ignore_index = True)\n",
    "    merge_y = pd.concat([y_list[i-2004], y_list[i-2003], y_list[i-2002], y_list[i-2001], y_list[i-2000]], axis = 0, ignore_index = True)\n",
    "    xgb(merge_x, merge_y, i)    "
   ]
  },
  {
   "cell_type": "code",
   "execution_count": 34,
   "id": "ac2ec60e-2391-4b45-9c8d-87260003f15c",
   "metadata": {},
   "outputs": [
    {
     "name": "stdout",
     "output_type": "stream",
     "text": [
      "RMSE: 1.6781\n",
      "R^2 : 0.8624\n",
      "RMSE: 1.6151\n",
      "R^2 : 0.8606\n",
      "RMSE: 1.5315\n",
      "R^2 : 0.8592\n",
      "RMSE: 1.4433\n",
      "R^2 : 0.8576\n",
      "RMSE: 1.3383\n",
      "R^2 : 0.8577\n"
     ]
    }
   ],
   "source": [
    "for i in range(2004, 2009):\n",
    "    merge_x = pd.concat([x_list[i-2004], x_list[i-1999], x_list[i-1994], x_list[i-1989]], axis = 0, ignore_index = True)\n",
    "    merge_y = pd.concat([y_list[i-2004], y_list[i-1999], y_list[i-1994], y_list[i-1989]], axis = 0, ignore_index = True)\n",
    "    xgb(merge_x, merge_y, i)    "
   ]
  },
  {
   "cell_type": "code",
   "execution_count": null,
   "id": "8f2c40a0-f4b9-4369-bc9f-c04f93c531ee",
   "metadata": {},
   "outputs": [],
   "source": []
  }
 ],
 "metadata": {
  "kernelspec": {
   "display_name": "Datathon",
   "language": "python",
   "name": "datathon"
  },
  "language_info": {
   "codemirror_mode": {
    "name": "ipython",
    "version": 3
   },
   "file_extension": ".py",
   "mimetype": "text/x-python",
   "name": "python",
   "nbconvert_exporter": "python",
   "pygments_lexer": "ipython3",
   "version": "3.11.11"
  }
 },
 "nbformat": 4,
 "nbformat_minor": 5
}
