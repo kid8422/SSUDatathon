{
 "cells": [
  {
   "cell_type": "markdown",
   "id": "b62ea474-b338-47db-a81e-6f80e2afff64",
   "metadata": {},
   "source": [
    "# 함수 선언\n",
    "\n",
    "하나의 함수로 만들어 연도 범위 지정하고 데이터 반환 받기"
   ]
  },
  {
   "cell_type": "code",
   "execution_count": 1,
   "id": "1cfda97d-344f-472c-896b-25baa0ec7e59",
   "metadata": {},
   "outputs": [],
   "source": [
    "import os\n",
    "from mysql import connector\n",
    "from dotenv import load_dotenv\n",
    "import pandas as pd\n",
    "import datetime"
   ]
  },
  {
   "cell_type": "code",
   "execution_count": 2,
   "id": "7f0935b2-343a-4064-b823-5094e99f05b0",
   "metadata": {},
   "outputs": [],
   "source": [
    "def load_data(start_year, end_year):\n",
    "    # 환경변수 로드\n",
    "    load_dotenv()\n",
    "    \n",
    "    NAME = os.getenv(\"DB_NAME\")\n",
    "    USER = os.getenv(\"DB_USER\")\n",
    "    PASSWORD = os.getenv(\"DB_PASSWORD\")\n",
    "    IP = os.getenv(\"DB_IP\")\n",
    "    PORT = os.getenv(\"DB_PORT\")\n",
    "    \n",
    "    class Database:\n",
    "        _connection = None  # 클래스 변수로 연결 상태 관리\n",
    "    \n",
    "        @staticmethod\n",
    "        def get_connection():\n",
    "            if Database._connection is None or not Database._connection.is_connected():\n",
    "                Database._connection = connector.connect(\n",
    "                    database = NAME,\n",
    "                    user = USER,\n",
    "                    password = PASSWORD,\n",
    "                    host = IP,\n",
    "                    port = PORT\n",
    "                )\n",
    "            return Database._connection\n",
    "    \n",
    "    try:\n",
    "        conn = Database.get_connection()\n",
    "        cursor = conn.cursor()\n",
    "        years_range = range(start_year, end_year + 1)\n",
    "        rc_sum_str = \" + \".join([f\"SUM(rc.`{year}`)\" for year in years_range])\n",
    "        irc_sum_str = \" + \".join([f\"SUM(irc.`{year}`)\" for year in years_range])\n",
    "    \n",
    "        cursor.execute(f\"\"\"\n",
    "            SELECT \n",
    "                book.ID,\n",
    "                registration_year,\n",
    "                registration_month,\n",
    "                get_course,\n",
    "                DDC,\n",
    "                title,\n",
    "                publication_year,\n",
    "                location,\n",
    "                duration,\n",
    "                COALESCE({rc_sum_str}, 0) AS total_rent,\n",
    "                COALESCE({irc_sum_str}, 0) AS rent_count,\n",
    "                ID_count\n",
    "            FROM book\n",
    "            LEFT JOIN recent_rent       ON book.ID = recent_rent.ID\n",
    "            LEFT JOIN rent_count AS rc        ON book.ID = rc.ID\n",
    "            LEFT JOIN ISBN_rent_count AS irc   ON book.ISBN = irc.ISBN\n",
    "            GROUP BY book.ID, registration_year, registration_month,\n",
    "                     get_course, DDC, publication_year, location, duration\n",
    "            ORDER BY book.ID\n",
    "        \"\"\")\n",
    "        rows_base = cursor.fetchall()\n",
    "        cursor.close()\n",
    "    \n",
    "    except connector.Error as e:\n",
    "        print(f\"Error: {e}\")\n",
    "    \n",
    "    df = pd.DataFrame(rows_base, columns=[\n",
    "            'ID', '등록연도', '등록월', '수서방법',\n",
    "            '분류코드', '제목', '출판연도', '소장위치', '최근대출',\n",
    "            '총 대출 횟수', 'rent_count', 'book_count'\n",
    "        ])\n",
    "\n",
    "    try:\n",
    "        conn = Database.get_connection()\n",
    "        cursor = conn.cursor()\n",
    "        years_range = range(start_year, end_year + 1)\n",
    "        sum_str = \" + \".join([f\"SUM(`{year}`)\" for year in years_range])\n",
    "        cursor.execute(f\"SELECT title, ID_count, COALESCE({sum_str}, 0) AS rent_count FROM None_ISBN_rent_count GROUP BY title;\")\n",
    "        rows = cursor.fetchall()\n",
    "        cursor.close()\n",
    "    except connector.Error as e:\n",
    "        print(f\"Error: {e}\")\n",
    "    \n",
    "    None_ISBN_df = pd.DataFrame(rows, columns=['제목', 'book_count', 'rent_count'])\n",
    "    \n",
    "    None_ISBN_df = None_ISBN_df.astype(object)\n",
    "    None_ISBN_df['rent_count'] = None_ISBN_df['rent_count'].astype(float)\n",
    "    None_ISBN_df['book_count'] = None_ISBN_df['book_count'].astype(float)\n",
    "\n",
    "    df_merged = pd.merge(df, None_ISBN_df, on='제목', how='left')\n",
    "    df_merged['rent_count_x'] = df_merged['rent_count_x'].fillna(df_merged['rent_count_y'])\n",
    "    df_merged['book_count_x'] = df_merged['book_count_x'].fillna(df_merged['book_count_y'])\n",
    "    df_merged.drop('rent_count_y', axis=1, inplace=True)\n",
    "    df_merged.drop('book_count_y', axis=1, inplace=True)\n",
    "    df_merged.rename(columns={'rent_count_x': 'rent_count', 'book_count_x': 'book_count'}, inplace=True)\n",
    "    df_merged.drop(columns=['제목'], inplace=True)\n",
    "    df_merged['ID'] = df_merged['ID'].str.split('_').str[-1].astype(int)\n",
    "    df_merged['수서방법'] = df_merged['수서방법'].astype('category')\n",
    "    df_merged['분류코드'] = df_merged['분류코드'].astype(float)\n",
    "    df_merged['출판연도'] = df_merged['출판연도'].astype(int)\n",
    "    df_merged['소장위치'] = df_merged['소장위치'].astype('category')\n",
    "    df_merged['최근대출'] = df_merged['최근대출'].fillna(7305).astype(int)\n",
    "    df_merged['rent_count'] = df_merged['rent_count'].fillna(0).astype(int)\n",
    "    df_merged['book_count'] = df_merged['book_count'].fillna(0).astype(int)\n",
    "    df_merged['총 대출 횟수'] = df_merged['총 대출 횟수'].astype(int)\n",
    "    df_onehot = pd.get_dummies(df_merged)\n",
    "\n",
    "    end_date_str = \"2024-10-31\"\n",
    "    start_date = datetime.date(start_year, 1, 1)           # 2019-01-01\n",
    "    year_, month_, day_ = map(int, end_date_str.split('-'))  # 2024, 10, 31\n",
    "    end_date = datetime.date(year_, month_, day_)\n",
    "    diff_days = (end_date - start_date).days  # 2019-01-01 ~ 2024-10-31까지 일수\n",
    "    df_onehot.loc[df_onehot['최근대출'] > diff_days, '최근대출'] = diff_days\n",
    "    \n",
    "    y_data = df_onehot['rent_count'] / df_onehot['book_count']\n",
    "    y_data = y_data.fillna(0)\n",
    "    df_onehot.drop(columns=['rent_count', 'book_count'], inplace=True)\n",
    "    date_series = pd.to_datetime({\n",
    "        \"year\":  df_onehot[\"등록연도\"],\n",
    "        \"month\": df_onehot[\"등록월\"],\n",
    "        \"day\":   1\n",
    "    })\n",
    "    end_date = pd.to_datetime(\"2024-10-31\")\n",
    "    df_onehot[\"reg_diff_days\"] = (end_date - date_series).dt.days\n",
    "    df_onehot[\"최근대출\"] = df_onehot[\"최근대출\"].fillna(df_onehot[\"reg_diff_days\"])\n",
    "    df_onehot.loc[df_onehot[\"최근대출\"] > df_onehot[\"reg_diff_days\"], \"최근대출\"] = df_onehot[\"reg_diff_days\"]\n",
    "    df_onehot.drop(\"reg_diff_days\", axis=1, inplace=True)\n",
    "    df_onehot[\"최근대출\"] = df_onehot[\"최근대출\"].astype(int)\n",
    "\n",
    "    return df_onehot, y_data"
   ]
  },
  {
   "cell_type": "markdown",
   "id": "6f195f81-6b2f-4967-9796-dccf5fca584e",
   "metadata": {},
   "source": [
    "# 데이터 불러오기"
   ]
  },
  {
   "cell_type": "code",
   "execution_count": 3,
   "id": "07c5a853-f014-47da-b986-70301f50e06e",
   "metadata": {},
   "outputs": [],
   "source": [
    "x_5, y_5 = load_data(2019, 2024)\n",
    "x_10, y_10 = load_data(2014, 2024)\n",
    "x_15, y_15 = load_data(2009, 2024)\n",
    "x_20, y_20 = load_data(2004, 2024)"
   ]
  },
  {
   "cell_type": "code",
   "execution_count": 4,
   "id": "1fddd96c-1946-4181-a27f-3cc506410233",
   "metadata": {},
   "outputs": [
    {
     "name": "stdout",
     "output_type": "stream",
     "text": [
      "<class 'pandas.core.frame.DataFrame'>\n",
      "RangeIndex: 299315 entries, 0 to 299314\n",
      "Data columns (total 15 columns):\n",
      " #   Column       Non-Null Count   Dtype  \n",
      "---  ------       --------------   -----  \n",
      " 0   ID           299315 non-null  int64  \n",
      " 1   등록연도         299315 non-null  int64  \n",
      " 2   등록월          299315 non-null  int64  \n",
      " 3   분류코드         299315 non-null  float64\n",
      " 4   출판연도         299315 non-null  int64  \n",
      " 5   최근대출         299315 non-null  int64  \n",
      " 6   총 대출 횟수      299315 non-null  int64  \n",
      " 7   수서방법_기타      299315 non-null  bool   \n",
      " 8   수서방법_사서선정    299315 non-null  bool   \n",
      " 9   수서방법_수서정보없음  299315 non-null  bool   \n",
      " 10  수서방법_수업지정    299315 non-null  bool   \n",
      " 11  수서방법_이용자희망   299315 non-null  bool   \n",
      " 12  수서방법_학과신청    299315 non-null  bool   \n",
      " 13  소장위치_4층인문    299315 non-null  bool   \n",
      " 14  소장위치_보존서고    299315 non-null  bool   \n",
      "dtypes: bool(8), float64(1), int64(6)\n",
      "memory usage: 18.3 MB\n"
     ]
    }
   ],
   "source": [
    "x_5.info()"
   ]
  },
  {
   "cell_type": "code",
   "execution_count": 5,
   "id": "f84bb980-c752-4a06-be60-c41f6ef5e7b1",
   "metadata": {},
   "outputs": [
    {
     "name": "stdout",
     "output_type": "stream",
     "text": [
      "<class 'pandas.core.frame.DataFrame'>\n",
      "RangeIndex: 299315 entries, 0 to 299314\n",
      "Data columns (total 15 columns):\n",
      " #   Column       Non-Null Count   Dtype  \n",
      "---  ------       --------------   -----  \n",
      " 0   ID           299315 non-null  int64  \n",
      " 1   등록연도         299315 non-null  int64  \n",
      " 2   등록월          299315 non-null  int64  \n",
      " 3   분류코드         299315 non-null  float64\n",
      " 4   출판연도         299315 non-null  int64  \n",
      " 5   최근대출         299315 non-null  int64  \n",
      " 6   총 대출 횟수      299315 non-null  int64  \n",
      " 7   수서방법_기타      299315 non-null  bool   \n",
      " 8   수서방법_사서선정    299315 non-null  bool   \n",
      " 9   수서방법_수서정보없음  299315 non-null  bool   \n",
      " 10  수서방법_수업지정    299315 non-null  bool   \n",
      " 11  수서방법_이용자희망   299315 non-null  bool   \n",
      " 12  수서방법_학과신청    299315 non-null  bool   \n",
      " 13  소장위치_4층인문    299315 non-null  bool   \n",
      " 14  소장위치_보존서고    299315 non-null  bool   \n",
      "dtypes: bool(8), float64(1), int64(6)\n",
      "memory usage: 18.3 MB\n"
     ]
    }
   ],
   "source": [
    "x_10.info()"
   ]
  },
  {
   "cell_type": "code",
   "execution_count": 6,
   "id": "e444e5b9-18ea-4edc-b71c-503d33494852",
   "metadata": {},
   "outputs": [
    {
     "name": "stdout",
     "output_type": "stream",
     "text": [
      "<class 'pandas.core.frame.DataFrame'>\n",
      "RangeIndex: 299315 entries, 0 to 299314\n",
      "Data columns (total 15 columns):\n",
      " #   Column       Non-Null Count   Dtype  \n",
      "---  ------       --------------   -----  \n",
      " 0   ID           299315 non-null  int64  \n",
      " 1   등록연도         299315 non-null  int64  \n",
      " 2   등록월          299315 non-null  int64  \n",
      " 3   분류코드         299315 non-null  float64\n",
      " 4   출판연도         299315 non-null  int64  \n",
      " 5   최근대출         299315 non-null  int64  \n",
      " 6   총 대출 횟수      299315 non-null  int64  \n",
      " 7   수서방법_기타      299315 non-null  bool   \n",
      " 8   수서방법_사서선정    299315 non-null  bool   \n",
      " 9   수서방법_수서정보없음  299315 non-null  bool   \n",
      " 10  수서방법_수업지정    299315 non-null  bool   \n",
      " 11  수서방법_이용자희망   299315 non-null  bool   \n",
      " 12  수서방법_학과신청    299315 non-null  bool   \n",
      " 13  소장위치_4층인문    299315 non-null  bool   \n",
      " 14  소장위치_보존서고    299315 non-null  bool   \n",
      "dtypes: bool(8), float64(1), int64(6)\n",
      "memory usage: 18.3 MB\n"
     ]
    }
   ],
   "source": [
    "x_15.info()"
   ]
  },
  {
   "cell_type": "code",
   "execution_count": 7,
   "id": "59960fb5-fdc7-4d55-aff1-e8b2971ee48e",
   "metadata": {},
   "outputs": [
    {
     "name": "stdout",
     "output_type": "stream",
     "text": [
      "<class 'pandas.core.frame.DataFrame'>\n",
      "RangeIndex: 299315 entries, 0 to 299314\n",
      "Data columns (total 15 columns):\n",
      " #   Column       Non-Null Count   Dtype  \n",
      "---  ------       --------------   -----  \n",
      " 0   ID           299315 non-null  int64  \n",
      " 1   등록연도         299315 non-null  int64  \n",
      " 2   등록월          299315 non-null  int64  \n",
      " 3   분류코드         299315 non-null  float64\n",
      " 4   출판연도         299315 non-null  int64  \n",
      " 5   최근대출         299315 non-null  int64  \n",
      " 6   총 대출 횟수      299315 non-null  int64  \n",
      " 7   수서방법_기타      299315 non-null  bool   \n",
      " 8   수서방법_사서선정    299315 non-null  bool   \n",
      " 9   수서방법_수서정보없음  299315 non-null  bool   \n",
      " 10  수서방법_수업지정    299315 non-null  bool   \n",
      " 11  수서방법_이용자희망   299315 non-null  bool   \n",
      " 12  수서방법_학과신청    299315 non-null  bool   \n",
      " 13  소장위치_4층인문    299315 non-null  bool   \n",
      " 14  소장위치_보존서고    299315 non-null  bool   \n",
      "dtypes: bool(8), float64(1), int64(6)\n",
      "memory usage: 18.3 MB\n"
     ]
    }
   ],
   "source": [
    "x_20.info()"
   ]
  },
  {
   "cell_type": "markdown",
   "id": "28482e31-631b-437c-ab15-9d7c6f151854",
   "metadata": {},
   "source": [
    "# 파일 병합"
   ]
  },
  {
   "cell_type": "code",
   "execution_count": 8,
   "id": "1803723e-f83c-459d-b464-4d83315cf49e",
   "metadata": {},
   "outputs": [],
   "source": [
    "# X 합치기\n",
    "merge_data_x = pd.concat([x_20, x_15, x_10, x_5], axis=0, ignore_index=True)\n",
    "\n",
    "# y 합치기\n",
    "merge_data_y = pd.concat([y_20, y_15, y_10, y_5], axis=0, ignore_index=True)"
   ]
  },
  {
   "cell_type": "code",
   "execution_count": 9,
   "id": "6c201727-8545-4cfd-8116-f6c1582e719d",
   "metadata": {},
   "outputs": [
    {
     "name": "stdout",
     "output_type": "stream",
     "text": [
      "<class 'pandas.core.frame.DataFrame'>\n",
      "RangeIndex: 1197260 entries, 0 to 1197259\n",
      "Data columns (total 15 columns):\n",
      " #   Column       Non-Null Count    Dtype  \n",
      "---  ------       --------------    -----  \n",
      " 0   ID           1197260 non-null  int64  \n",
      " 1   등록연도         1197260 non-null  int64  \n",
      " 2   등록월          1197260 non-null  int64  \n",
      " 3   분류코드         1197260 non-null  float64\n",
      " 4   출판연도         1197260 non-null  int64  \n",
      " 5   최근대출         1197260 non-null  int64  \n",
      " 6   총 대출 횟수      1197260 non-null  int64  \n",
      " 7   수서방법_기타      1197260 non-null  bool   \n",
      " 8   수서방법_사서선정    1197260 non-null  bool   \n",
      " 9   수서방법_수서정보없음  1197260 non-null  bool   \n",
      " 10  수서방법_수업지정    1197260 non-null  bool   \n",
      " 11  수서방법_이용자희망   1197260 non-null  bool   \n",
      " 12  수서방법_학과신청    1197260 non-null  bool   \n",
      " 13  소장위치_4층인문    1197260 non-null  bool   \n",
      " 14  소장위치_보존서고    1197260 non-null  bool   \n",
      "dtypes: bool(8), float64(1), int64(6)\n",
      "memory usage: 73.1 MB\n"
     ]
    }
   ],
   "source": [
    "merge_data_x.info()"
   ]
  },
  {
   "cell_type": "code",
   "execution_count": 10,
   "id": "05c8ff7c-387f-4ebd-b893-7928e3ddee69",
   "metadata": {},
   "outputs": [
    {
     "name": "stdout",
     "output_type": "stream",
     "text": [
      "<class 'pandas.core.series.Series'>\n",
      "RangeIndex: 1197260 entries, 0 to 1197259\n",
      "Series name: None\n",
      "Non-Null Count    Dtype  \n",
      "--------------    -----  \n",
      "1197260 non-null  float64\n",
      "dtypes: float64(1)\n",
      "memory usage: 9.1 MB\n"
     ]
    }
   ],
   "source": [
    "merge_data_y.info()"
   ]
  },
  {
   "cell_type": "markdown",
   "id": "67ac1e22-26d7-4fad-8d4e-25564337b517",
   "metadata": {},
   "source": [
    "# XGBoost"
   ]
  },
  {
   "cell_type": "code",
   "execution_count": 11,
   "id": "ebeb49fd-e3a9-41ba-bcf8-2b8366ed467a",
   "metadata": {},
   "outputs": [],
   "source": [
    "# 모듈 불러오기\n",
    "import xgboost as xgb\n",
    "from sklearn.model_selection import train_test_split\n",
    "from sklearn.model_selection import train_test_split\n",
    "from sklearn.metrics import mean_squared_error, r2_score\n",
    "import numpy as np"
   ]
  },
  {
   "cell_type": "code",
   "execution_count": 13,
   "id": "2fda8b2d-50d7-40c2-9b95-13bd9e2420e4",
   "metadata": {},
   "outputs": [],
   "source": [
    "def xgb(n, d):\n",
    "    # 모듈 불러오기\n",
    "    import xgboost as xgb\n",
    "    from sklearn.model_selection import train_test_split\n",
    "    from sklearn.model_selection import train_test_split\n",
    "    from sklearn.metrics import mean_squared_error, r2_score\n",
    "    import numpy as np\n",
    "\n",
    "    # 데이터 분리\n",
    "    X_train, X_test, y_train, y_test = train_test_split(merge_data_x, merge_data_y, test_size=0.3, random_state=42)\n",
    "\n",
    "    # 모델 생성\n",
    "    xgb_reg = xgb.XGBRegressor(\n",
    "        n_estimators = n,   # 트리 개수\n",
    "        learning_rate = 0.05,  # 학습률\n",
    "        max_depth = d,        # 트리 최대 깊이\n",
    "        subsample = 0.8,\n",
    "        colsample_bytree=0.8,\n",
    "        random_state = 42\n",
    "    )\n",
    "    xgb_reg.fit(X_train, y_train)\n",
    "    y_pred = xgb_reg.predict(X_test)\n",
    "    rmse = np.sqrt(mean_squared_error(y_test, y_pred))\n",
    "    r2 = r2_score(y_test, y_pred)\n",
    "    \n",
    "    print(f\"RMSE: {rmse:.4f}\")\n",
    "    print(f\"R^2 : {r2:.4f}\")"
   ]
  },
  {
   "cell_type": "code",
   "execution_count": 14,
   "id": "896ca020-be6e-4b46-8e81-c3bdf6fed6ea",
   "metadata": {},
   "outputs": [
    {
     "name": "stdout",
     "output_type": "stream",
     "text": [
      "RMSE: 1.5274\n",
      "R^2 : 0.8860\n"
     ]
    }
   ],
   "source": [
    "xgb(500, 7)"
   ]
  },
  {
   "cell_type": "code",
   "execution_count": 15,
   "id": "6d0d8454-b8b7-441f-98fe-e77083bd378e",
   "metadata": {},
   "outputs": [
    {
     "name": "stdout",
     "output_type": "stream",
     "text": [
      "RMSE: 1.4702\n",
      "R^2 : 0.8944\n"
     ]
    }
   ],
   "source": [
    "xgb(1000, 7)"
   ]
  },
  {
   "cell_type": "code",
   "execution_count": 16,
   "id": "b6c59dca-fb7b-4f1a-aef2-dca502ca4fee",
   "metadata": {},
   "outputs": [
    {
     "name": "stdout",
     "output_type": "stream",
     "text": [
      "RMSE: 1.3308\n",
      "R^2 : 0.9135\n"
     ]
    }
   ],
   "source": [
    "xgb(1000, 10)"
   ]
  },
  {
   "cell_type": "code",
   "execution_count": 17,
   "id": "d9d64570-4bad-4248-9a1d-4b300da27e9c",
   "metadata": {},
   "outputs": [
    {
     "name": "stdout",
     "output_type": "stream",
     "text": [
      "RMSE: 1.5691\n",
      "R^2 : 0.8797\n"
     ]
    }
   ],
   "source": [
    "xgb(300, 7)"
   ]
  },
  {
   "cell_type": "code",
   "execution_count": 18,
   "id": "7b0baa77-dac0-4754-a68a-e23522920d4f",
   "metadata": {},
   "outputs": [
    {
     "name": "stdout",
     "output_type": "stream",
     "text": [
      "RMSE: 1.6614\n",
      "R^2 : 0.8651\n"
     ]
    }
   ],
   "source": [
    "xgb(300, 5)"
   ]
  },
  {
   "cell_type": "code",
   "execution_count": 19,
   "id": "74b798a8-faa2-4bc2-9e2e-57eb98e9018f",
   "metadata": {},
   "outputs": [
    {
     "name": "stdout",
     "output_type": "stream",
     "text": [
      "RMSE: 1.6307\n",
      "R^2 : 0.8700\n"
     ]
    }
   ],
   "source": [
    "xgb(500, 5)"
   ]
  },
  {
   "cell_type": "code",
   "execution_count": 20,
   "id": "57a33a95-2e69-4140-bc30-5c699c46e747",
   "metadata": {},
   "outputs": [
    {
     "name": "stdout",
     "output_type": "stream",
     "text": [
      "RMSE: 1.6447\n",
      "R^2 : 0.8678\n"
     ]
    }
   ],
   "source": [
    "xgb(400, 5)"
   ]
  },
  {
   "cell_type": "code",
   "execution_count": 21,
   "id": "99c54a86-feaa-43b2-aade-0645dc2083d3",
   "metadata": {},
   "outputs": [
    {
     "name": "stdout",
     "output_type": "stream",
     "text": [
      "RMSE: 1.6076\n",
      "R^2 : 0.8737\n"
     ]
    }
   ],
   "source": [
    "xgb(700, 5)"
   ]
  },
  {
   "cell_type": "code",
   "execution_count": null,
   "id": "522390a9-954b-457e-8e73-3f573a6965f8",
   "metadata": {},
   "outputs": [],
   "source": []
  },
  {
   "cell_type": "code",
   "execution_count": 22,
   "id": "acc38e63-4152-429c-badf-56265149dedf",
   "metadata": {},
   "outputs": [
    {
     "name": "stdout",
     "output_type": "stream",
     "text": [
      "RMSE: 1.6732\n",
      "R^2 : 0.8632\n"
     ]
    }
   ],
   "source": [
    "# 모듈 불러오기\n",
    "import xgboost as xgb\n",
    "from sklearn.model_selection import train_test_split\n",
    "from sklearn.model_selection import train_test_split\n",
    "from sklearn.metrics import mean_squared_error, r2_score\n",
    "import numpy as np\n",
    "\n",
    "# 데이터 분리\n",
    "X_train, X_test, y_train, y_test = train_test_split(merge_data_x, merge_data_y, test_size=0.3, random_state=42)\n",
    "\n",
    "# 모델 생성\n",
    "xgb_reg = xgb.XGBRegressor(\n",
    "    n_estimators = 500,   # 트리 개수\n",
    "    learning_rate = 0.05,  # 학습률\n",
    "    max_depth = 5,        # 트리 최대 깊이\n",
    "    subsample = 0.8,\n",
    "    random_state = 42\n",
    ")\n",
    "xgb_reg.fit(X_train, y_train)\n",
    "y_pred = xgb_reg.predict(X_test)\n",
    "rmse = np.sqrt(mean_squared_error(y_test, y_pred))\n",
    "r2 = r2_score(y_test, y_pred)\n",
    "\n",
    "print(f\"RMSE: {rmse:.4f}\")\n",
    "print(f\"R^2 : {r2:.4f}\")"
   ]
  },
  {
   "cell_type": "code",
   "execution_count": 23,
   "id": "acb74481-52db-440d-8501-4bbca14df6d1",
   "metadata": {},
   "outputs": [],
   "source": [
    "all_y_pred = xgb_reg.predict(merge_data_x)"
   ]
  },
  {
   "cell_type": "code",
   "execution_count": 24,
   "id": "02f3adb2-7aec-4c35-a712-64d8f41de05b",
   "metadata": {},
   "outputs": [],
   "source": [
    "df_y_result = pd.DataFrame({\n",
    "    \"Prediction\": all_y_pred,\n",
    "    \"Actual\": merge_data_y\n",
    "}, index=merge_data_y.index)"
   ]
  },
  {
   "cell_type": "code",
   "execution_count": 25,
   "id": "8cda6adb-7525-4765-ad59-3139d27ea369",
   "metadata": {},
   "outputs": [
    {
     "data": {
      "text/html": [
       "<div>\n",
       "<style scoped>\n",
       "    .dataframe tbody tr th:only-of-type {\n",
       "        vertical-align: middle;\n",
       "    }\n",
       "\n",
       "    .dataframe tbody tr th {\n",
       "        vertical-align: top;\n",
       "    }\n",
       "\n",
       "    .dataframe thead th {\n",
       "        text-align: right;\n",
       "    }\n",
       "</style>\n",
       "<table border=\"1\" class=\"dataframe\">\n",
       "  <thead>\n",
       "    <tr style=\"text-align: right;\">\n",
       "      <th></th>\n",
       "      <th>Prediction</th>\n",
       "      <th>Actual</th>\n",
       "    </tr>\n",
       "  </thead>\n",
       "  <tbody>\n",
       "    <tr>\n",
       "      <th>969593</th>\n",
       "      <td>0.406660</td>\n",
       "      <td>0.000000</td>\n",
       "    </tr>\n",
       "    <tr>\n",
       "      <th>1141051</th>\n",
       "      <td>0.255088</td>\n",
       "      <td>0.464286</td>\n",
       "    </tr>\n",
       "    <tr>\n",
       "      <th>432947</th>\n",
       "      <td>0.619009</td>\n",
       "      <td>1.000000</td>\n",
       "    </tr>\n",
       "    <tr>\n",
       "      <th>681119</th>\n",
       "      <td>3.241430</td>\n",
       "      <td>2.571429</td>\n",
       "    </tr>\n",
       "    <tr>\n",
       "      <th>510493</th>\n",
       "      <td>0.115368</td>\n",
       "      <td>0.000000</td>\n",
       "    </tr>\n",
       "    <tr>\n",
       "      <th>366317</th>\n",
       "      <td>3.518367</td>\n",
       "      <td>3.500000</td>\n",
       "    </tr>\n",
       "    <tr>\n",
       "      <th>123104</th>\n",
       "      <td>41.442635</td>\n",
       "      <td>38.363636</td>\n",
       "    </tr>\n",
       "    <tr>\n",
       "      <th>24953</th>\n",
       "      <td>3.200289</td>\n",
       "      <td>3.000000</td>\n",
       "    </tr>\n",
       "    <tr>\n",
       "      <th>529893</th>\n",
       "      <td>3.480245</td>\n",
       "      <td>7.927273</td>\n",
       "    </tr>\n",
       "    <tr>\n",
       "      <th>1024600</th>\n",
       "      <td>0.112335</td>\n",
       "      <td>0.000000</td>\n",
       "    </tr>\n",
       "    <tr>\n",
       "      <th>873115</th>\n",
       "      <td>0.219610</td>\n",
       "      <td>0.000000</td>\n",
       "    </tr>\n",
       "    <tr>\n",
       "      <th>649719</th>\n",
       "      <td>3.371776</td>\n",
       "      <td>3.000000</td>\n",
       "    </tr>\n",
       "    <tr>\n",
       "      <th>913972</th>\n",
       "      <td>-0.057255</td>\n",
       "      <td>0.000000</td>\n",
       "    </tr>\n",
       "    <tr>\n",
       "      <th>221458</th>\n",
       "      <td>-0.008147</td>\n",
       "      <td>0.000000</td>\n",
       "    </tr>\n",
       "    <tr>\n",
       "      <th>755803</th>\n",
       "      <td>0.165927</td>\n",
       "      <td>0.000000</td>\n",
       "    </tr>\n",
       "    <tr>\n",
       "      <th>725562</th>\n",
       "      <td>1.962302</td>\n",
       "      <td>2.000000</td>\n",
       "    </tr>\n",
       "    <tr>\n",
       "      <th>186281</th>\n",
       "      <td>0.137936</td>\n",
       "      <td>0.000000</td>\n",
       "    </tr>\n",
       "    <tr>\n",
       "      <th>218766</th>\n",
       "      <td>0.652204</td>\n",
       "      <td>0.000000</td>\n",
       "    </tr>\n",
       "    <tr>\n",
       "      <th>765875</th>\n",
       "      <td>3.081313</td>\n",
       "      <td>2.500000</td>\n",
       "    </tr>\n",
       "    <tr>\n",
       "      <th>1015585</th>\n",
       "      <td>0.159344</td>\n",
       "      <td>0.000000</td>\n",
       "    </tr>\n",
       "  </tbody>\n",
       "</table>\n",
       "</div>"
      ],
      "text/plain": [
       "         Prediction     Actual\n",
       "969593     0.406660   0.000000\n",
       "1141051    0.255088   0.464286\n",
       "432947     0.619009   1.000000\n",
       "681119     3.241430   2.571429\n",
       "510493     0.115368   0.000000\n",
       "366317     3.518367   3.500000\n",
       "123104    41.442635  38.363636\n",
       "24953      3.200289   3.000000\n",
       "529893     3.480245   7.927273\n",
       "1024600    0.112335   0.000000\n",
       "873115     0.219610   0.000000\n",
       "649719     3.371776   3.000000\n",
       "913972    -0.057255   0.000000\n",
       "221458    -0.008147   0.000000\n",
       "755803     0.165927   0.000000\n",
       "725562     1.962302   2.000000\n",
       "186281     0.137936   0.000000\n",
       "218766     0.652204   0.000000\n",
       "765875     3.081313   2.500000\n",
       "1015585    0.159344   0.000000"
      ]
     },
     "metadata": {},
     "output_type": "display_data"
    }
   ],
   "source": [
    "sample = df_y_result.sample(n = 20)\n",
    "display(sample)"
   ]
  },
  {
   "cell_type": "code",
   "execution_count": 26,
   "id": "0847cfa0-a65e-4ee0-a60a-4815b8be2187",
   "metadata": {},
   "outputs": [
    {
     "name": "stdout",
     "output_type": "stream",
     "text": [
      "RMSE: 1.6424\n",
      "R^2 : 0.8693\n"
     ]
    }
   ],
   "source": [
    "rmse = np.sqrt(mean_squared_error(merge_data_y, all_y_pred))\n",
    "r2 = r2_score(merge_data_y, all_y_pred)\n",
    "\n",
    "print(f\"RMSE: {rmse:.4f}\")\n",
    "print(f\"R^2 : {r2:.4f}\")"
   ]
  },
  {
   "cell_type": "code",
   "execution_count": 27,
   "id": "c69b51be-94ce-4f20-8c4b-f44428863b9a",
   "metadata": {},
   "outputs": [],
   "source": [
    "xgb_reg.save_model(\"xgb_model_v3.json\")"
   ]
  },
  {
   "cell_type": "code",
   "execution_count": null,
   "id": "81d7fd19-0496-4db9-bec5-e1bbc492e17b",
   "metadata": {},
   "outputs": [],
   "source": []
  }
 ],
 "metadata": {
  "kernelspec": {
   "display_name": "Datathon",
   "language": "python",
   "name": "datathon"
  },
  "language_info": {
   "codemirror_mode": {
    "name": "ipython",
    "version": 3
   },
   "file_extension": ".py",
   "mimetype": "text/x-python",
   "name": "python",
   "nbconvert_exporter": "python",
   "pygments_lexer": "ipython3",
   "version": "3.11.11"
  }
 },
 "nbformat": 4,
 "nbformat_minor": 5
}
